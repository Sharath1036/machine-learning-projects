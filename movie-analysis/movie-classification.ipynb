{
 "cells": [
  {
   "cell_type": "code",
   "execution_count": 1,
   "id": "6f5e233d",
   "metadata": {
    "scrolled": true
   },
   "outputs": [
    {
     "data": {
      "text/html": [
       "<style>\n",
       ".list-inline {list-style: none; margin:0; padding: 0}\n",
       ".list-inline>li {display: inline-block}\n",
       ".list-inline>li:not(:last-child)::after {content: \"\\00b7\"; padding: 0 .5ex}\n",
       "</style>\n",
       "<ol class=list-inline><li>506</li><li>19</li></ol>\n"
      ],
      "text/latex": [
       "\\begin{enumerate*}\n",
       "\\item 506\n",
       "\\item 19\n",
       "\\end{enumerate*}\n"
      ],
      "text/markdown": [
       "1. 506\n",
       "2. 19\n",
       "\n",
       "\n"
      ],
      "text/plain": [
       "[1] 506  19"
      ]
     },
     "metadata": {},
     "output_type": "display_data"
    }
   ],
   "source": [
    "movie <- read.csv(\"E:/Machine Learning/Datasets/Movie_classification.csv\", header = TRUE)\n",
    "dim(movie)"
   ]
  },
  {
   "cell_type": "code",
   "execution_count": 2,
   "id": "3ff60234",
   "metadata": {},
   "outputs": [
    {
     "data": {
      "text/plain": [
       " Marketing.expense Production.expense Multiplex.coverage     Budget     \n",
       " Min.   :  20.13   Min.   : 55.92     Min.   :0.1290     Min.   :19781  \n",
       " 1st Qu.:  21.64   1st Qu.: 65.38     1st Qu.:0.3760     1st Qu.:32694  \n",
       " Median :  25.13   Median : 74.38     Median :0.4620     Median :34488  \n",
       " Mean   :  92.27   Mean   : 77.27     Mean   :0.4453     Mean   :34911  \n",
       " 3rd Qu.:  93.54   3rd Qu.: 91.20     3rd Qu.:0.5510     3rd Qu.:36794  \n",
       " Max.   :1799.52   Max.   :110.48     Max.   :0.6150     Max.   :48773  \n",
       "                                                                        \n",
       "  Movie_length   Lead_.Actor_Rating Lead_Actress_rating Director_rating\n",
       " Min.   : 76.4   Min.   :3.840      Min.   :4.035       Min.   :3.840  \n",
       " 1st Qu.:118.5   1st Qu.:7.316      1st Qu.:7.504       1st Qu.:7.296  \n",
       " Median :151.0   Median :8.307      Median :8.495       Median :8.312  \n",
       " Mean   :142.1   Mean   :8.014      Mean   :8.186       Mean   :8.020  \n",
       " 3rd Qu.:167.6   3rd Qu.:8.865      3rd Qu.:9.030       3rd Qu.:8.884  \n",
       " Max.   :173.5   Max.   :9.435      Max.   :9.540       Max.   :9.425  \n",
       "                                                                       \n",
       " Producer_rating Critic_rating   Trailer_views    X3D_available     \n",
       " Min.   :4.030   Min.   :6.600   Min.   :212912   Length:506        \n",
       " 1st Qu.:7.508   1st Qu.:7.200   1st Qu.:409128   Class :character  \n",
       " Median :8.465   Median :7.960   Median :462460   Mode  :character  \n",
       " Mean   :8.191   Mean   :7.811   Mean   :449861                     \n",
       " 3rd Qu.:9.030   3rd Qu.:8.260   3rd Qu.:500248                     \n",
       " Max.   :9.635   Max.   :9.400   Max.   :567784                     \n",
       "                                                                    \n",
       "   Time_taken    Twitter_hastags     Genre           Avg_age_actors \n",
       " Min.   :  0.0   Min.   : 201.2   Length:506         Min.   : 3.00  \n",
       " 1st Qu.:132.3   1st Qu.: 223.8   Class :character   1st Qu.:28.00  \n",
       " Median :160.0   Median : 254.4   Mode  :character   Median :39.00  \n",
       " Mean   :157.4   Mean   : 260.8                      Mean   :39.18  \n",
       " 3rd Qu.:181.9   3rd Qu.: 283.4                      3rd Qu.:50.00  \n",
       " Max.   :217.5   Max.   :2022.4                      Max.   :60.00  \n",
       " NA's   :12                                                         \n",
       " Num_multiplex     Collection     Start_Tech_Oscar\n",
       " Min.   :333.0   Min.   : 10000   Min.   :0.0000  \n",
       " 1st Qu.:465.0   1st Qu.: 34050   1st Qu.:0.0000  \n",
       " Median :535.5   Median : 42400   Median :1.0000  \n",
       " Mean   :545.0   Mean   : 45058   Mean   :0.5455  \n",
       " 3rd Qu.:614.8   3rd Qu.: 50000   3rd Qu.:1.0000  \n",
       " Max.   :868.0   Max.   :100000   Max.   :1.0000  \n",
       "                                                  "
      ]
     },
     "metadata": {},
     "output_type": "display_data"
    }
   ],
   "source": [
    "summary(movie)"
   ]
  },
  {
   "cell_type": "code",
   "execution_count": 3,
   "id": "225b51af",
   "metadata": {},
   "outputs": [
    {
     "data": {
      "text/html": [
       "0"
      ],
      "text/latex": [
       "0"
      ],
      "text/markdown": [
       "0"
      ],
      "text/plain": [
       "[1] 0"
      ]
     },
     "metadata": {},
     "output_type": "display_data"
    }
   ],
   "source": [
    "# The Time_taken variable has missing values. So we do missing value imputation\n",
    "movie$Time_taken[is.na(movie$Time_taken)] <- mean(movie$Time_taken, na.rm=TRUE)\n",
    "sum(is.na(movie))"
   ]
  },
  {
   "cell_type": "markdown",
   "id": "e10a4ef2",
   "metadata": {},
   "source": [
    "# Test-Train Split"
   ]
  },
  {
   "cell_type": "code",
   "execution_count": 4,
   "id": "49ed5e19",
   "metadata": {},
   "outputs": [],
   "source": [
    "library(caTools)\n",
    "set.seed(0)\n",
    "split <- sample.split(movie,SplitRatio = 0.8)\n",
    "trainc <- subset(movie, split==TRUE)\n",
    "testc <- subset(movie, split==FALSE)"
   ]
  },
  {
   "cell_type": "code",
   "execution_count": 5,
   "id": "efc7e663",
   "metadata": {},
   "outputs": [
    {
     "data": {
      "text/html": [
       "<style>\n",
       ".list-inline {list-style: none; margin:0; padding: 0}\n",
       ".list-inline>li {display: inline-block}\n",
       ".list-inline>li:not(:last-child)::after {content: \"\\00b7\"; padding: 0 .5ex}\n",
       "</style>\n",
       "<ol class=list-inline><li>399</li><li>19</li></ol>\n"
      ],
      "text/latex": [
       "\\begin{enumerate*}\n",
       "\\item 399\n",
       "\\item 19\n",
       "\\end{enumerate*}\n"
      ],
      "text/markdown": [
       "1. 399\n",
       "2. 19\n",
       "\n",
       "\n"
      ],
      "text/plain": [
       "[1] 399  19"
      ]
     },
     "metadata": {},
     "output_type": "display_data"
    },
    {
     "data": {
      "text/html": [
       "<style>\n",
       ".list-inline {list-style: none; margin:0; padding: 0}\n",
       ".list-inline>li {display: inline-block}\n",
       ".list-inline>li:not(:last-child)::after {content: \"\\00b7\"; padding: 0 .5ex}\n",
       "</style>\n",
       "<ol class=list-inline><li>107</li><li>19</li></ol>\n"
      ],
      "text/latex": [
       "\\begin{enumerate*}\n",
       "\\item 107\n",
       "\\item 19\n",
       "\\end{enumerate*}\n"
      ],
      "text/markdown": [
       "1. 107\n",
       "2. 19\n",
       "\n",
       "\n"
      ],
      "text/plain": [
       "[1] 107  19"
      ]
     },
     "metadata": {},
     "output_type": "display_data"
    }
   ],
   "source": [
    "dim(trainc)\n",
    "dim(testc)"
   ]
  },
  {
   "cell_type": "code",
   "execution_count": 6,
   "id": "75888351",
   "metadata": {},
   "outputs": [],
   "source": [
    "# Since we are doing classification, we'll require to convert Start_Tech_Oscar to a factor\n",
    "trainc$Start_Tech_Oscar <- as.factor(trainc$Start_Tech_Oscar)\n",
    "testc$Start_Tech_Oscar <- as.factor(testc$Start_Tech_Oscar)\n",
    "trainc$X3D_available <- as.factor(trainc$X3D_available)\n",
    "testc$X3D_available <- as.factor(testc$X3D_available)\n",
    "trainc$Genre <- as.factor(trainc$Genre)\n",
    "testc$Genre <- as.factor(testc$Genre)"
   ]
  },
  {
   "cell_type": "markdown",
   "id": "0c22546c",
   "metadata": {},
   "source": [
    "# Decision Tree"
   ]
  },
  {
   "cell_type": "code",
   "execution_count": 8,
   "id": "e54a8c6a",
   "metadata": {},
   "outputs": [
    {
     "data": {
      "image/png": "[encoded data removed]",
      "text/plain": [
       "plot without title"
      ]
     },
     "metadata": {
      "image/png": {
       "height": 420,
       "width": 420
      }
     },
     "output_type": "display_data"
    }
   ],
   "source": [
    "library(rpart)\n",
    "library(rpart.plot)\n",
    "classtree <- rpart(Start_Tech_Oscar~., data=trainc, method=\"class\", control=rpart.control(maxdepth = 3))\n",
    "rpart.plot(classtree, digits=-3)"
   ]
  },
  {
   "cell_type": "code",
   "execution_count": 9,
   "id": "9b3c96d9",
   "metadata": {
    "scrolled": true
   },
   "outputs": [
    {
     "name": "stdout",
     "output_type": "stream",
     "text": [
      "\n",
      "Classification tree:\n",
      "rpart(formula = Start_Tech_Oscar ~ ., data = trainc, method = \"class\", \n",
      "    control = rpart.control(maxdepth = 3))\n",
      "\n",
      "Variables actually used in tree construction:\n",
      "[1] Budget          Collection      Producer_rating\n",
      "\n",
      "Root node error: 180/399 = 0.45113\n",
      "\n",
      "n= 399 \n",
      "\n",
      "        CP nsplit rel error xerror     xstd\n",
      "1 0.044444      0   1.00000 1.0000 0.055220\n",
      "2 0.010000      3   0.86667 1.0944 0.055482\n"
     ]
    }
   ],
   "source": [
    "printcp(classtree)"
   ]
  },
  {
   "cell_type": "code",
   "execution_count": 10,
   "id": "d3630d1d",
   "metadata": {},
   "outputs": [
    {
     "data": {
      "text/plain": [
       "   \n",
       "     0  1\n",
       "  0 45  5\n",
       "  1 38 19"
      ]
     },
     "metadata": {},
     "output_type": "display_data"
    }
   ],
   "source": [
    "# Predicting values on testc set\n",
    "testc$classtree <- predict(classtree, testc, type=\"class\")\n",
    "table(testc$Start_Tech_Oscar, testc$classtree)"
   ]
  },
  {
   "cell_type": "code",
   "execution_count": 11,
   "id": "a029e2ba",
   "metadata": {},
   "outputs": [
    {
     "data": {
      "text/html": [
       "59.8130841121495"
      ],
      "text/latex": [
       "59.8130841121495"
      ],
      "text/markdown": [
       "59.8130841121495"
      ],
      "text/plain": [
       "[1] 59.81308"
      ]
     },
     "metadata": {},
     "output_type": "display_data"
    }
   ],
   "source": [
    "64/107*100"
   ]
  },
  {
   "cell_type": "markdown",
   "id": "890b0ccf",
   "metadata": {},
   "source": [
    "We need not prune the tree as the accuracy is slightly better in prediction accuracy"
   ]
  },
  {
   "cell_type": "markdown",
   "id": "5e20fe9e",
   "metadata": {},
   "source": [
    "# Bagging"
   ]
  },
  {
   "cell_type": "code",
   "execution_count": 12,
   "id": "bc599194",
   "metadata": {},
   "outputs": [
    {
     "name": "stderr",
     "output_type": "stream",
     "text": [
      "randomForest 4.7-1.1\n",
      "\n",
      "Type rfNews() to see new features/changes/bug fixes.\n",
      "\n"
     ]
    },
    {
     "data": {
      "text/plain": [
       "   \n",
       "     0  1\n",
       "  0 29 21\n",
       "  1 14 43"
      ]
     },
     "metadata": {},
     "output_type": "display_data"
    }
   ],
   "source": [
    "library(randomForest)\n",
    "set.seed(0)\n",
    "trainc$Start_Tech_Oscar <- as.factor(trainc$Start_Tech_Oscar)\n",
    "bagging <- randomForest(Start_Tech_Oscar~., data=trainc, method=\"class\", mtry=17)\n",
    "testc$bagging <- predict(bagging, testc, type=\"response\")\n",
    "table(testc$Start_Tech_Oscar, testc$bagging)"
   ]
  },
  {
   "cell_type": "code",
   "execution_count": 13,
   "id": "1d45d407",
   "metadata": {},
   "outputs": [
    {
     "data": {
      "text/html": [
       "67.2897196261682"
      ],
      "text/latex": [
       "67.2897196261682"
      ],
      "text/markdown": [
       "67.2897196261682"
      ],
      "text/plain": [
       "[1] 67.28972"
      ]
     },
     "metadata": {},
     "output_type": "display_data"
    }
   ],
   "source": [
    "72/107*100"
   ]
  },
  {
   "cell_type": "markdown",
   "id": "ab28806f",
   "metadata": {},
   "source": [
    "# Random Forest"
   ]
  },
  {
   "cell_type": "code",
   "execution_count": 14,
   "id": "4c538ea6",
   "metadata": {},
   "outputs": [
    {
     "data": {
      "text/plain": [
       "   \n",
       "     0  1\n",
       "  0 27 23\n",
       "  1 18 39"
      ]
     },
     "metadata": {},
     "output_type": "display_data"
    }
   ],
   "source": [
    "set.seed(0)\n",
    "randomforest <- randomForest(Start_Tech_Oscar~., data=trainc, ntree=500)\n",
    "testc$randomforest <- predict(randomforest, testc, type=\"class\")\n",
    "table(testc$Start_Tech_Oscar, testc$randomforest) "
   ]
  },
  {
   "cell_type": "code",
   "execution_count": 15,
   "id": "69abc9d0",
   "metadata": {},
   "outputs": [
    {
     "data": {
      "text/html": [
       "61.6822429906542"
      ],
      "text/latex": [
       "61.6822429906542"
      ],
      "text/markdown": [
       "61.6822429906542"
      ],
      "text/plain": [
       "[1] 61.68224"
      ]
     },
     "metadata": {},
     "output_type": "display_data"
    }
   ],
   "source": [
    "66/107*100"
   ]
  },
  {
   "cell_type": "code",
   "execution_count": 16,
   "id": "4b3649ef",
   "metadata": {
    "scrolled": true
   },
   "outputs": [
    {
     "name": "stderr",
     "output_type": "stream",
     "text": [
      "Loaded gbm 2.1.8.1\n",
      "\n",
      "Warning message:\n",
      "\"Setting `distribution = \"multinomial\"` is ill-advised as it is currently broken. It exists only for backwards compatibility. Use at your own risk.\"\n"
     ]
    },
    {
     "data": {
      "text/plain": [
       "   \n",
       "     0  1\n",
       "  0 25 25\n",
       "  1 20 37"
      ]
     },
     "metadata": {},
     "output_type": "display_data"
    }
   ],
   "source": [
    "library(gbm)\n",
    "set.seed(0)\n",
    "gradient <- gbm(Start_Tech_Oscar~., data=trainc, distribution=\"multinomial\", n.trees=1000, interaction.depth=4, shrinkage=0.2, verbose = F)\n",
    "testc$gradient <- predict(gradient, testc, n.trees=1000, type=\"response\")\n",
    "class_names = colnames(testc$gradient)[apply(testc$gradient, 1, which.max)]\n",
    "table(testc$Start_Tech_Oscar, as.factor(class_names))"
   ]
  },
  {
   "cell_type": "code",
   "execution_count": 17,
   "id": "dbffdfe7",
   "metadata": {
    "scrolled": true
   },
   "outputs": [
    {
     "data": {
      "text/html": [
       "57.9439252336449"
      ],
      "text/latex": [
       "57.9439252336449"
      ],
      "text/markdown": [
       "57.9439252336449"
      ],
      "text/plain": [
       "[1] 57.94393"
      ]
     },
     "metadata": {},
     "output_type": "display_data"
    }
   ],
   "source": [
    "62/107*100"
   ]
  },
  {
   "cell_type": "markdown",
   "id": "a4b8dc1f",
   "metadata": {},
   "source": [
    "# Adaptive Boost"
   ]
  },
  {
   "cell_type": "code",
   "execution_count": 18,
   "id": "be05f3b2",
   "metadata": {},
   "outputs": [
    {
     "name": "stderr",
     "output_type": "stream",
     "text": [
      "Loading required package: caret\n",
      "\n",
      "Loading required package: ggplot2\n",
      "\n",
      "\n",
      "Attaching package: 'ggplot2'\n",
      "\n",
      "\n",
      "The following object is masked from 'package:randomForest':\n",
      "\n",
      "    margin\n",
      "\n",
      "\n",
      "Loading required package: lattice\n",
      "\n",
      "Loading required package: foreach\n",
      "\n",
      "Loading required package: doParallel\n",
      "\n",
      "Loading required package: iterators\n",
      "\n",
      "Loading required package: parallel\n",
      "\n"
     ]
    },
    {
     "data": {
      "text/plain": [
       "   \n",
       "     0  1\n",
       "  0 30 18\n",
       "  1 20 39"
      ]
     },
     "metadata": {},
     "output_type": "display_data"
    }
   ],
   "source": [
    "library(adabag)\n",
    "adaboost <- boosting(Start_Tech_Oscar~., data=trainc, boos=TRUE)\n",
    "predada <- predict(adaboost, testc)\n",
    "table(predada$class, testc$Start_Tech_Oscar) "
   ]
  },
  {
   "cell_type": "code",
   "execution_count": 19,
   "id": "c49e3bf5",
   "metadata": {
    "scrolled": true
   },
   "outputs": [
    {
     "data": {
      "text/html": [
       "64.4859813084112"
      ],
      "text/latex": [
       "64.4859813084112"
      ],
      "text/markdown": [
       "64.4859813084112"
      ],
      "text/plain": [
       "[1] 64.48598"
      ]
     },
     "metadata": {},
     "output_type": "display_data"
    }
   ],
   "source": [
    "69/107*100"
   ]
  },
  {
   "cell_type": "code",
   "execution_count": 20,
   "id": "c6c06624",
   "metadata": {},
   "outputs": [
    {
     "data": {
      "image/png": "[encoded data removed]",
      "text/plain": [
       "plot without title"
      ]
     },
     "metadata": {
      "image/png": {
       "height": 420,
       "width": 420
      }
     },
     "output_type": "display_data"
    }
   ],
   "source": [
    "t1 <- adaboost$trees[[1]]\n",
    "plot(t1)\n",
    "text(t1, pretty=100)"
   ]
  },
  {
   "cell_type": "markdown",
   "id": "f8b4f28c",
   "metadata": {},
   "source": [
    "# XG Boost"
   ]
  },
  {
   "cell_type": "code",
   "execution_count": 7,
   "id": "01e69ccc",
   "metadata": {},
   "outputs": [
    {
     "name": "stdout",
     "output_type": "stream",
     "text": [
      "[1]\ttrain-mlogloss:0.506756 \n",
      "[2]\ttrain-mlogloss:0.401487 \n",
      "[3]\ttrain-mlogloss:0.315490 \n",
      "[4]\ttrain-mlogloss:0.256459 \n",
      "[5]\ttrain-mlogloss:0.209795 \n",
      "[6]\ttrain-mlogloss:0.175916 \n",
      "[7]\ttrain-mlogloss:0.150885 \n",
      "[8]\ttrain-mlogloss:0.130334 \n",
      "[9]\ttrain-mlogloss:0.113675 \n",
      "[10]\ttrain-mlogloss:0.100119 \n",
      "[11]\ttrain-mlogloss:0.089515 \n",
      "[12]\ttrain-mlogloss:0.081753 \n",
      "[13]\ttrain-mlogloss:0.074419 \n",
      "[14]\ttrain-mlogloss:0.068095 \n",
      "[15]\ttrain-mlogloss:0.062626 \n",
      "[16]\ttrain-mlogloss:0.058346 \n",
      "[17]\ttrain-mlogloss:0.054328 \n",
      "[18]\ttrain-mlogloss:0.050960 \n",
      "[19]\ttrain-mlogloss:0.048015 \n",
      "[20]\ttrain-mlogloss:0.044911 \n",
      "[21]\ttrain-mlogloss:0.042852 \n",
      "[22]\ttrain-mlogloss:0.040494 \n",
      "[23]\ttrain-mlogloss:0.038455 \n",
      "[24]\ttrain-mlogloss:0.036670 \n",
      "[25]\ttrain-mlogloss:0.035095 \n",
      "[26]\ttrain-mlogloss:0.033451 \n",
      "[27]\ttrain-mlogloss:0.032290 \n",
      "[28]\ttrain-mlogloss:0.031226 \n",
      "[29]\ttrain-mlogloss:0.030154 \n",
      "[30]\ttrain-mlogloss:0.029058 \n",
      "[31]\ttrain-mlogloss:0.028062 \n",
      "[32]\ttrain-mlogloss:0.027287 \n",
      "[33]\ttrain-mlogloss:0.026444 \n",
      "[34]\ttrain-mlogloss:0.025685 \n",
      "[35]\ttrain-mlogloss:0.024871 \n",
      "[36]\ttrain-mlogloss:0.024195 \n",
      "[37]\ttrain-mlogloss:0.023564 \n",
      "[38]\ttrain-mlogloss:0.022932 \n",
      "[39]\ttrain-mlogloss:0.022431 \n",
      "[40]\ttrain-mlogloss:0.021824 \n",
      "[41]\ttrain-mlogloss:0.021406 \n",
      "[42]\ttrain-mlogloss:0.020920 \n",
      "[43]\ttrain-mlogloss:0.020451 \n",
      "[44]\ttrain-mlogloss:0.020000 \n",
      "[45]\ttrain-mlogloss:0.019641 \n",
      "[46]\ttrain-mlogloss:0.019315 \n",
      "[47]\ttrain-mlogloss:0.018925 \n",
      "[48]\ttrain-mlogloss:0.018546 \n",
      "[49]\ttrain-mlogloss:0.018263 \n",
      "[50]\ttrain-mlogloss:0.017930 \n"
     ]
    },
    {
     "data": {
      "text/plain": [
       "       xgpred\n",
       "testY    0  1\n",
       "  FALSE 27 23\n",
       "  TRUE  16 41"
      ]
     },
     "metadata": {},
     "output_type": "display_data"
    }
   ],
   "source": [
    "library(xgboost)\n",
    "trainY <- trainc$Start_Tech_Oscar==\"1\"\n",
    "trainX <- model.matrix(Start_Tech_Oscar~.-1, data=trainc)\n",
    "trainX <- trainX[,-12]\n",
    "\n",
    "testY <- testc$Start_Tech_Oscar==\"1\"\n",
    "testX <- model.matrix(Start_Tech_Oscar~.-1, data=testc)\n",
    "testX <- testX[,-12]\n",
    "\n",
    "Xmatrix_train <- xgb.DMatrix(data=trainX, label=trainY)\n",
    "Xmatrix_test <- xgb.DMatrix(data=testX, label=testY)\n",
    "\n",
    "Xgboosting <- xgboost(data=Xmatrix_train, nround=50, objective =\"multi:softmax\", eta=0.3, num_class=2, max_depth=100)\n",
    "xgpred <- predict(Xgboosting, Xmatrix_test)\n",
    "table(testY, xgpred)"
   ]
  },
  {
   "cell_type": "code",
   "execution_count": 7,
   "id": "418eba22",
   "metadata": {},
   "outputs": [
    {
     "data": {
      "text/html": [
       "63.5514018691589"
      ],
      "text/latex": [
       "63.5514018691589"
      ],
      "text/markdown": [
       "63.5514018691589"
      ],
      "text/plain": [
       "[1] 63.5514"
      ]
     },
     "metadata": {},
     "output_type": "display_data"
    }
   ],
   "source": [
    "68/107*100"
   ]
  },
  {
   "cell_type": "markdown",
   "id": "380ef388",
   "metadata": {},
   "source": [
    "# Support Vector Machines"
   ]
  },
  {
   "cell_type": "markdown",
   "id": "a3b94ee0",
   "metadata": {},
   "source": [
    "### 1. Linear Kernel"
   ]
  },
  {
   "cell_type": "code",
   "execution_count": 21,
   "id": "d7ab9f89",
   "metadata": {
    "scrolled": true
   },
   "outputs": [
    {
     "data": {
      "text/plain": [
       "\n",
       "Call:\n",
       "svm(formula = Start_Tech_Oscar ~ ., data = trainc, kernel = \"linear\", \n",
       "    cost = 1, scale = TRUE)\n",
       "\n",
       "\n",
       "Parameters:\n",
       "   SVM-Type:  C-classification \n",
       " SVM-Kernel:  linear \n",
       "       cost:  1 \n",
       "\n",
       "Number of Support Vectors:  293\n",
       "\n",
       " ( 149 144 )\n",
       "\n",
       "\n",
       "Number of Classes:  2 \n",
       "\n",
       "Levels: \n",
       " 0 1\n",
       "\n",
       "\n"
      ]
     },
     "metadata": {},
     "output_type": "display_data"
    }
   ],
   "source": [
    "library (e1071)\n",
    "svmfit = svm (Start_Tech_Oscar~., data=trainc , kernel = \"linear\", cost =1 ,scale = TRUE)\n",
    "summary (svmfit)"
   ]
  },
  {
   "cell_type": "code",
   "execution_count": 22,
   "id": "5a116857",
   "metadata": {},
   "outputs": [
    {
     "data": {
      "text/plain": [
       "       truth\n",
       "predict  0  1\n",
       "      0 30 21\n",
       "      1 20 36"
      ]
     },
     "metadata": {},
     "output_type": "display_data"
    }
   ],
   "source": [
    "testc$linearsvm=predict (svmfit ,testc)\n",
    "table(predict=testc$linearsvm, truth= testc$Start_Tech_Oscar) "
   ]
  },
  {
   "cell_type": "code",
   "execution_count": 28,
   "id": "800fb1c2",
   "metadata": {},
   "outputs": [
    {
     "data": {
      "text/html": [
       "61.6822429906542"
      ],
      "text/latex": [
       "61.6822429906542"
      ],
      "text/markdown": [
       "61.6822429906542"
      ],
      "text/plain": [
       "[1] 61.68224"
      ]
     },
     "metadata": {},
     "output_type": "display_data"
    }
   ],
   "source": [
    "66/107*100"
   ]
  },
  {
   "cell_type": "code",
   "execution_count": 24,
   "id": "fba568d0",
   "metadata": {},
   "outputs": [
    {
     "data": {
      "text/html": [
       "<style>\n",
       ".list-inline {list-style: none; margin:0; padding: 0}\n",
       ".list-inline>li {display: inline-block}\n",
       ".list-inline>li:not(:last-child)::after {content: \"\\00b7\"; padding: 0 .5ex}\n",
       "</style>\n",
       "<ol class=list-inline><li>1</li><li>7</li><li>12</li><li>13</li><li>14</li><li>18</li><li>23</li><li>24</li><li>26</li><li>28</li><li>30</li><li>36</li><li>37</li><li>47</li><li>48</li><li>49</li><li>50</li><li>52</li><li>53</li><li>55</li><li>57</li><li>58</li><li>59</li><li>60</li><li>61</li><li>62</li><li>65</li><li>66</li><li>69</li><li>72</li><li>79</li><li>80</li><li>84</li><li>85</li><li>86</li><li>87</li><li>88</li><li>98</li><li>99</li><li>100</li><li>102</li><li>103</li><li>104</li><li>105</li><li>112</li><li>113</li><li>120</li><li>121</li><li>126</li><li>141</li><li>144</li><li>149</li><li>151</li><li>158</li><li>159</li><li>160</li><li>161</li><li>163</li><li>169</li><li>174</li><li>175</li><li>176</li><li>177</li><li>178</li><li>182</li><li>184</li><li>186</li><li>188</li><li>189</li><li>190</li><li>192</li><li>196</li><li>197</li><li>201</li><li>203</li><li>207</li><li>210</li><li>211</li><li>217</li><li>218</li><li>219</li><li>220</li><li>223</li><li>227</li><li>229</li><li>233</li><li>238</li><li>240</li><li>241</li><li>247</li><li>248</li><li>250</li><li>251</li><li>253</li><li>256</li><li>257</li><li>258</li><li>260</li><li>266</li><li>267</li><li>268</li><li>269</li><li>270</li><li>278</li><li>280</li><li>281</li><li>283</li><li>284</li><li>285</li><li>286</li><li>288</li><li>298</li><li>300</li><li>303</li><li>304</li><li>307</li><li>309</li><li>311</li><li>312</li><li>325</li><li>329</li><li>331</li><li>333</li><li>335</li><li>339</li><li>343</li><li>345</li><li>347</li><li>350</li><li>352</li><li>354</li><li>355</li><li>357</li><li>361</li><li>364</li><li>367</li><li>369</li><li>373</li><li>374</li><li>376</li><li>378</li><li>379</li><li>380</li><li>382</li><li>383</li><li>384</li><li>386</li><li>392</li><li>393</li><li>2</li><li>5</li><li>8</li><li>9</li><li>10</li><li>15</li><li>16</li><li>19</li><li>20</li><li>21</li><li>22</li><li>25</li><li>27</li><li>31</li><li>32</li><li>33</li><li>34</li><li>35</li><li>40</li><li>41</li><li>43</li><li>54</li><li>56</li><li>63</li><li>64</li><li>68</li><li>71</li><li>74</li><li>75</li><li>76</li><li>78</li><li>81</li><li>82</li><li>83</li><li>92</li><li>93</li><li>94</li><li>96</li><li>106</li><li>107</li><li>108</li><li>109</li><li>110</li><li>115</li><li>116</li><li>119</li><li>122</li><li>123</li><li>130</li><li>131</li><li>133</li><li>134</li><li>135</li><li>137</li><li>138</li><li>140</li><li>146</li><li>147</li><li>150</li><li>152</li><li>153</li><li>154</li><li>156</li><li>157</li><li>164</li><li>171</li><li>173</li><li>180</li><li>183</li><li>191</li><li>193</li><li>195</li><li>198</li><li>199</li><li>204</li><li>205</li><li>206</li><li>209</li><li>213</li><li>214</li><li>215</li><li>216</li><li>221</li><li>226</li><li>228</li><li>230</li><li>231</li><li>232</li><li>234</li><li>236</li><li>237</li><li>239</li><li>242</li><li>243</li><li>244</li><li>246</li><li>249</li><li>252</li><li>254</li><li>255</li><li>259</li><li>261</li><li>264</li><li>265</li><li>272</li><li>273</li><li>274</li><li>276</li><li>282</li><li>301</li><li>302</li><li>308</li><li>314</li><li>316</li><li>317</li><li>319</li><li>320</li><li>324</li><li>341</li><li>346</li><li>349</li><li>351</li><li>353</li><li>356</li><li>358</li><li>359</li><li>360</li><li>362</li><li>363</li><li>365</li><li>366</li><li>368</li><li>371</li><li>372</li><li>377</li><li>381</li><li>385</li><li>388</li><li>389</li><li>390</li><li>391</li><li>395</li><li>396</li><li>398</li></ol>\n"
      ],
      "text/latex": [
       "\\begin{enumerate*}\n",
       "\\item 1\n",
       "\\item 7\n",
       "\\item 12\n",
       "\\item 13\n",
       "\\item 14\n",
       "\\item 18\n",
       "\\item 23\n",
       "\\item 24\n",
       "\\item 26\n",
       "\\item 28\n",
       "\\item 30\n",
       "\\item 36\n",
       "\\item 37\n",
       "\\item 47\n",
       "\\item 48\n",
       "\\item 49\n",
       "\\item 50\n",
       "\\item 52\n",
       "\\item 53\n",
       "\\item 55\n",
       "\\item 57\n",
       "\\item 58\n",
       "\\item 59\n",
       "\\item 60\n",
       "\\item 61\n",
       "\\item 62\n",
       "\\item 65\n",
       "\\item 66\n",
       "\\item 69\n",
       "\\item 72\n",
       "\\item 79\n",
       "\\item 80\n",
       "\\item 84\n",
       "\\item 85\n",
       "\\item 86\n",
       "\\item 87\n",
       "\\item 88\n",
       "\\item 98\n",
       "\\item 99\n",
       "\\item 100\n",
       "\\item 102\n",
       "\\item 103\n",
       "\\item 104\n",
       "\\item 105\n",
       "\\item 112\n",
       "\\item 113\n",
       "\\item 120\n",
       "\\item 121\n",
       "\\item 126\n",
       "\\item 141\n",
       "\\item 144\n",
       "\\item 149\n",
       "\\item 151\n",
       "\\item 158\n",
       "\\item 159\n",
       "\\item 160\n",
       "\\item 161\n",
       "\\item 163\n",
       "\\item 169\n",
       "\\item 174\n",
       "\\item 175\n",
       "\\item 176\n",
       "\\item 177\n",
       "\\item 178\n",
       "\\item 182\n",
       "\\item 184\n",
       "\\item 186\n",
       "\\item 188\n",
       "\\item 189\n",
       "\\item 190\n",
       "\\item 192\n",
       "\\item 196\n",
       "\\item 197\n",
       "\\item 201\n",
       "\\item 203\n",
       "\\item 207\n",
       "\\item 210\n",
       "\\item 211\n",
       "\\item 217\n",
       "\\item 218\n",
       "\\item 219\n",
       "\\item 220\n",
       "\\item 223\n",
       "\\item 227\n",
       "\\item 229\n",
       "\\item 233\n",
       "\\item 238\n",
       "\\item 240\n",
       "\\item 241\n",
       "\\item 247\n",
       "\\item 248\n",
       "\\item 250\n",
       "\\item 251\n",
       "\\item 253\n",
       "\\item 256\n",
       "\\item 257\n",
       "\\item 258\n",
       "\\item 260\n",
       "\\item 266\n",
       "\\item 267\n",
       "\\item 268\n",
       "\\item 269\n",
       "\\item 270\n",
       "\\item 278\n",
       "\\item 280\n",
       "\\item 281\n",
       "\\item 283\n",
       "\\item 284\n",
       "\\item 285\n",
       "\\item 286\n",
       "\\item 288\n",
       "\\item 298\n",
       "\\item 300\n",
       "\\item 303\n",
       "\\item 304\n",
       "\\item 307\n",
       "\\item 309\n",
       "\\item 311\n",
       "\\item 312\n",
       "\\item 325\n",
       "\\item 329\n",
       "\\item 331\n",
       "\\item 333\n",
       "\\item 335\n",
       "\\item 339\n",
       "\\item 343\n",
       "\\item 345\n",
       "\\item 347\n",
       "\\item 350\n",
       "\\item 352\n",
       "\\item 354\n",
       "\\item 355\n",
       "\\item 357\n",
       "\\item 361\n",
       "\\item 364\n",
       "\\item 367\n",
       "\\item 369\n",
       "\\item 373\n",
       "\\item 374\n",
       "\\item 376\n",
       "\\item 378\n",
       "\\item 379\n",
       "\\item 380\n",
       "\\item 382\n",
       "\\item 383\n",
       "\\item 384\n",
       "\\item 386\n",
       "\\item 392\n",
       "\\item 393\n",
       "\\item 2\n",
       "\\item 5\n",
       "\\item 8\n",
       "\\item 9\n",
       "\\item 10\n",
       "\\item 15\n",
       "\\item 16\n",
       "\\item 19\n",
       "\\item 20\n",
       "\\item 21\n",
       "\\item 22\n",
       "\\item 25\n",
       "\\item 27\n",
       "\\item 31\n",
       "\\item 32\n",
       "\\item 33\n",
       "\\item 34\n",
       "\\item 35\n",
       "\\item 40\n",
       "\\item 41\n",
       "\\item 43\n",
       "\\item 54\n",
       "\\item 56\n",
       "\\item 63\n",
       "\\item 64\n",
       "\\item 68\n",
       "\\item 71\n",
       "\\item 74\n",
       "\\item 75\n",
       "\\item 76\n",
       "\\item 78\n",
       "\\item 81\n",
       "\\item 82\n",
       "\\item 83\n",
       "\\item 92\n",
       "\\item 93\n",
       "\\item 94\n",
       "\\item 96\n",
       "\\item 106\n",
       "\\item 107\n",
       "\\item 108\n",
       "\\item 109\n",
       "\\item 110\n",
       "\\item 115\n",
       "\\item 116\n",
       "\\item 119\n",
       "\\item 122\n",
       "\\item 123\n",
       "\\item 130\n",
       "\\item 131\n",
       "\\item 133\n",
       "\\item 134\n",
       "\\item 135\n",
       "\\item 137\n",
       "\\item 138\n",
       "\\item 140\n",
       "\\item 146\n",
       "\\item 147\n",
       "\\item 150\n",
       "\\item 152\n",
       "\\item 153\n",
       "\\item 154\n",
       "\\item 156\n",
       "\\item 157\n",
       "\\item 164\n",
       "\\item 171\n",
       "\\item 173\n",
       "\\item 180\n",
       "\\item 183\n",
       "\\item 191\n",
       "\\item 193\n",
       "\\item 195\n",
       "\\item 198\n",
       "\\item 199\n",
       "\\item 204\n",
       "\\item 205\n",
       "\\item 206\n",
       "\\item 209\n",
       "\\item 213\n",
       "\\item 214\n",
       "\\item 215\n",
       "\\item 216\n",
       "\\item 221\n",
       "\\item 226\n",
       "\\item 228\n",
       "\\item 230\n",
       "\\item 231\n",
       "\\item 232\n",
       "\\item 234\n",
       "\\item 236\n",
       "\\item 237\n",
       "\\item 239\n",
       "\\item 242\n",
       "\\item 243\n",
       "\\item 244\n",
       "\\item 246\n",
       "\\item 249\n",
       "\\item 252\n",
       "\\item 254\n",
       "\\item 255\n",
       "\\item 259\n",
       "\\item 261\n",
       "\\item 264\n",
       "\\item 265\n",
       "\\item 272\n",
       "\\item 273\n",
       "\\item 274\n",
       "\\item 276\n",
       "\\item 282\n",
       "\\item 301\n",
       "\\item 302\n",
       "\\item 308\n",
       "\\item 314\n",
       "\\item 316\n",
       "\\item 317\n",
       "\\item 319\n",
       "\\item 320\n",
       "\\item 324\n",
       "\\item 341\n",
       "\\item 346\n",
       "\\item 349\n",
       "\\item 351\n",
       "\\item 353\n",
       "\\item 356\n",
       "\\item 358\n",
       "\\item 359\n",
       "\\item 360\n",
       "\\item 362\n",
       "\\item 363\n",
       "\\item 365\n",
       "\\item 366\n",
       "\\item 368\n",
       "\\item 371\n",
       "\\item 372\n",
       "\\item 377\n",
       "\\item 381\n",
       "\\item 385\n",
       "\\item 388\n",
       "\\item 389\n",
       "\\item 390\n",
       "\\item 391\n",
       "\\item 395\n",
       "\\item 396\n",
       "\\item 398\n",
       "\\end{enumerate*}\n"
      ],
      "text/markdown": [
       "1. 1\n",
       "2. 7\n",
       "3. 12\n",
       "4. 13\n",
       "5. 14\n",
       "6. 18\n",
       "7. 23\n",
       "8. 24\n",
       "9. 26\n",
       "10. 28\n",
       "11. 30\n",
       "12. 36\n",
       "13. 37\n",
       "14. 47\n",
       "15. 48\n",
       "16. 49\n",
       "17. 50\n",
       "18. 52\n",
       "19. 53\n",
       "20. 55\n",
       "21. 57\n",
       "22. 58\n",
       "23. 59\n",
       "24. 60\n",
       "25. 61\n",
       "26. 62\n",
       "27. 65\n",
       "28. 66\n",
       "29. 69\n",
       "30. 72\n",
       "31. 79\n",
       "32. 80\n",
       "33. 84\n",
       "34. 85\n",
       "35. 86\n",
       "36. 87\n",
       "37. 88\n",
       "38. 98\n",
       "39. 99\n",
       "40. 100\n",
       "41. 102\n",
       "42. 103\n",
       "43. 104\n",
       "44. 105\n",
       "45. 112\n",
       "46. 113\n",
       "47. 120\n",
       "48. 121\n",
       "49. 126\n",
       "50. 141\n",
       "51. 144\n",
       "52. 149\n",
       "53. 151\n",
       "54. 158\n",
       "55. 159\n",
       "56. 160\n",
       "57. 161\n",
       "58. 163\n",
       "59. 169\n",
       "60. 174\n",
       "61. 175\n",
       "62. 176\n",
       "63. 177\n",
       "64. 178\n",
       "65. 182\n",
       "66. 184\n",
       "67. 186\n",
       "68. 188\n",
       "69. 189\n",
       "70. 190\n",
       "71. 192\n",
       "72. 196\n",
       "73. 197\n",
       "74. 201\n",
       "75. 203\n",
       "76. 207\n",
       "77. 210\n",
       "78. 211\n",
       "79. 217\n",
       "80. 218\n",
       "81. 219\n",
       "82. 220\n",
       "83. 223\n",
       "84. 227\n",
       "85. 229\n",
       "86. 233\n",
       "87. 238\n",
       "88. 240\n",
       "89. 241\n",
       "90. 247\n",
       "91. 248\n",
       "92. 250\n",
       "93. 251\n",
       "94. 253\n",
       "95. 256\n",
       "96. 257\n",
       "97. 258\n",
       "98. 260\n",
       "99. 266\n",
       "100. 267\n",
       "101. 268\n",
       "102. 269\n",
       "103. 270\n",
       "104. 278\n",
       "105. 280\n",
       "106. 281\n",
       "107. 283\n",
       "108. 284\n",
       "109. 285\n",
       "110. 286\n",
       "111. 288\n",
       "112. 298\n",
       "113. 300\n",
       "114. 303\n",
       "115. 304\n",
       "116. 307\n",
       "117. 309\n",
       "118. 311\n",
       "119. 312\n",
       "120. 325\n",
       "121. 329\n",
       "122. 331\n",
       "123. 333\n",
       "124. 335\n",
       "125. 339\n",
       "126. 343\n",
       "127. 345\n",
       "128. 347\n",
       "129. 350\n",
       "130. 352\n",
       "131. 354\n",
       "132. 355\n",
       "133. 357\n",
       "134. 361\n",
       "135. 364\n",
       "136. 367\n",
       "137. 369\n",
       "138. 373\n",
       "139. 374\n",
       "140. 376\n",
       "141. 378\n",
       "142. 379\n",
       "143. 380\n",
       "144. 382\n",
       "145. 383\n",
       "146. 384\n",
       "147. 386\n",
       "148. 392\n",
       "149. 393\n",
       "150. 2\n",
       "151. 5\n",
       "152. 8\n",
       "153. 9\n",
       "154. 10\n",
       "155. 15\n",
       "156. 16\n",
       "157. 19\n",
       "158. 20\n",
       "159. 21\n",
       "160. 22\n",
       "161. 25\n",
       "162. 27\n",
       "163. 31\n",
       "164. 32\n",
       "165. 33\n",
       "166. 34\n",
       "167. 35\n",
       "168. 40\n",
       "169. 41\n",
       "170. 43\n",
       "171. 54\n",
       "172. 56\n",
       "173. 63\n",
       "174. 64\n",
       "175. 68\n",
       "176. 71\n",
       "177. 74\n",
       "178. 75\n",
       "179. 76\n",
       "180. 78\n",
       "181. 81\n",
       "182. 82\n",
       "183. 83\n",
       "184. 92\n",
       "185. 93\n",
       "186. 94\n",
       "187. 96\n",
       "188. 106\n",
       "189. 107\n",
       "190. 108\n",
       "191. 109\n",
       "192. 110\n",
       "193. 115\n",
       "194. 116\n",
       "195. 119\n",
       "196. 122\n",
       "197. 123\n",
       "198. 130\n",
       "199. 131\n",
       "200. 133\n",
       "201. 134\n",
       "202. 135\n",
       "203. 137\n",
       "204. 138\n",
       "205. 140\n",
       "206. 146\n",
       "207. 147\n",
       "208. 150\n",
       "209. 152\n",
       "210. 153\n",
       "211. 154\n",
       "212. 156\n",
       "213. 157\n",
       "214. 164\n",
       "215. 171\n",
       "216. 173\n",
       "217. 180\n",
       "218. 183\n",
       "219. 191\n",
       "220. 193\n",
       "221. 195\n",
       "222. 198\n",
       "223. 199\n",
       "224. 204\n",
       "225. 205\n",
       "226. 206\n",
       "227. 209\n",
       "228. 213\n",
       "229. 214\n",
       "230. 215\n",
       "231. 216\n",
       "232. 221\n",
       "233. 226\n",
       "234. 228\n",
       "235. 230\n",
       "236. 231\n",
       "237. 232\n",
       "238. 234\n",
       "239. 236\n",
       "240. 237\n",
       "241. 239\n",
       "242. 242\n",
       "243. 243\n",
       "244. 244\n",
       "245. 246\n",
       "246. 249\n",
       "247. 252\n",
       "248. 254\n",
       "249. 255\n",
       "250. 259\n",
       "251. 261\n",
       "252. 264\n",
       "253. 265\n",
       "254. 272\n",
       "255. 273\n",
       "256. 274\n",
       "257. 276\n",
       "258. 282\n",
       "259. 301\n",
       "260. 302\n",
       "261. 308\n",
       "262. 314\n",
       "263. 316\n",
       "264. 317\n",
       "265. 319\n",
       "266. 320\n",
       "267. 324\n",
       "268. 341\n",
       "269. 346\n",
       "270. 349\n",
       "271. 351\n",
       "272. 353\n",
       "273. 356\n",
       "274. 358\n",
       "275. 359\n",
       "276. 360\n",
       "277. 362\n",
       "278. 363\n",
       "279. 365\n",
       "280. 366\n",
       "281. 368\n",
       "282. 371\n",
       "283. 372\n",
       "284. 377\n",
       "285. 381\n",
       "286. 385\n",
       "287. 388\n",
       "288. 389\n",
       "289. 390\n",
       "290. 391\n",
       "291. 395\n",
       "292. 396\n",
       "293. 398\n",
       "\n",
       "\n"
      ],
      "text/plain": [
       "  [1]   1   7  12  13  14  18  23  24  26  28  30  36  37  47  48  49  50  52\n",
       " [19]  53  55  57  58  59  60  61  62  65  66  69  72  79  80  84  85  86  87\n",
       " [37]  88  98  99 100 102 103 104 105 112 113 120 121 126 141 144 149 151 158\n",
       " [55] 159 160 161 163 169 174 175 176 177 178 182 184 186 188 189 190 192 196\n",
       " [73] 197 201 203 207 210 211 217 218 219 220 223 227 229 233 238 240 241 247\n",
       " [91] 248 250 251 253 256 257 258 260 266 267 268 269 270 278 280 281 283 284\n",
       "[109] 285 286 288 298 300 303 304 307 309 311 312 325 329 331 333 335 339 343\n",
       "[127] 345 347 350 352 354 355 357 361 364 367 369 373 374 376 378 379 380 382\n",
       "[145] 383 384 386 392 393   2   5   8   9  10  15  16  19  20  21  22  25  27\n",
       "[163]  31  32  33  34  35  40  41  43  54  56  63  64  68  71  74  75  76  78\n",
       "[181]  81  82  83  92  93  94  96 106 107 108 109 110 115 116 119 122 123 130\n",
       "[199] 131 133 134 135 137 138 140 146 147 150 152 153 154 156 157 164 171 173\n",
       "[217] 180 183 191 193 195 198 199 204 205 206 209 213 214 215 216 221 226 228\n",
       "[235] 230 231 232 234 236 237 239 242 243 244 246 249 252 254 255 259 261 264\n",
       "[253] 265 272 273 274 276 282 301 302 308 314 316 317 319 320 324 341 346 349\n",
       "[271] 351 353 356 358 359 360 362 363 365 366 368 371 372 377 381 385 388 389\n",
       "[289] 390 391 395 396 398"
      ]
     },
     "metadata": {},
     "output_type": "display_data"
    }
   ],
   "source": [
    "## To check the support vectors\n",
    "svmfit$index"
   ]
  },
  {
   "cell_type": "code",
   "execution_count": 25,
   "id": "6ee5db3d",
   "metadata": {},
   "outputs": [
    {
     "data": {
      "text/plain": [
       "\n",
       "Call:\n",
       "best.tune(METHOD = svm, train.x = Start_Tech_Oscar ~ ., data = trainc, \n",
       "    ranges = list(cost = c(0.001, 0.01, 0.1, 1, 10, 100)), kernel = \"linear\")\n",
       "\n",
       "\n",
       "Parameters:\n",
       "   SVM-Type:  C-classification \n",
       " SVM-Kernel:  linear \n",
       "       cost:  1 \n",
       "\n",
       "Number of Support Vectors:  293\n",
       "\n",
       " ( 149 144 )\n",
       "\n",
       "\n",
       "Number of Classes:  2 \n",
       "\n",
       "Levels: \n",
       " 0 1\n",
       "\n",
       "\n"
      ]
     },
     "metadata": {},
     "output_type": "display_data"
    }
   ],
   "source": [
    "## Finding best value of cost / Tuning the hyperparameter\n",
    "set.seed (0)\n",
    "tune.out = tune(svm, Start_Tech_Oscar~.,data=trainc ,kernel=\"linear\", ranges =list(cost=c(0.001 , 0.01, 0.1, 1,10,100)))\n",
    "bestmod = tune.out$best.model\n",
    "summary(bestmod)"
   ]
  },
  {
   "cell_type": "code",
   "execution_count": 27,
   "id": "bc51ac62",
   "metadata": {},
   "outputs": [
    {
     "data": {
      "text/plain": [
       "       truth\n",
       "predict  0  1\n",
       "      0 30 21\n",
       "      1 20 36"
      ]
     },
     "metadata": {},
     "output_type": "display_data"
    }
   ],
   "source": [
    "testc$tunedlinear=predict (bestmod ,testc)\n",
    "table(predict=testc$tunedlinear, truth=testc$Start_Tech_Oscar)"
   ]
  },
  {
   "cell_type": "code",
   "execution_count": 29,
   "id": "943eb21f",
   "metadata": {},
   "outputs": [
    {
     "data": {
      "text/html": [
       "61.6822429906542"
      ],
      "text/latex": [
       "61.6822429906542"
      ],
      "text/markdown": [
       "61.6822429906542"
      ],
      "text/plain": [
       "[1] 61.68224"
      ]
     },
     "metadata": {},
     "output_type": "display_data"
    }
   ],
   "source": [
    "66/107*100"
   ]
  },
  {
   "cell_type": "markdown",
   "id": "025a0546",
   "metadata": {},
   "source": [
    "### 2. Polynomial Kernel"
   ]
  },
  {
   "cell_type": "code",
   "execution_count": 30,
   "id": "8dbf34fe",
   "metadata": {},
   "outputs": [
    {
     "data": {
      "text/plain": [
       "\n",
       "Call:\n",
       "best.tune(METHOD = svm, train.x = Start_Tech_Oscar ~ ., data = trainc, \n",
       "    ranges = list(cost = c(0.001, 0.1, 1, 5, 10), degree = c(0.5, \n",
       "        1, 2, 3, 5)), cross = 4, kernel = \"polynomial\")\n",
       "\n",
       "\n",
       "Parameters:\n",
       "   SVM-Type:  C-classification \n",
       " SVM-Kernel:  polynomial \n",
       "       cost:  5 \n",
       "     degree:  1 \n",
       "     coef.0:  0 \n",
       "\n",
       "Number of Support Vectors:  308\n",
       "\n",
       " ( 157 151 )\n",
       "\n",
       "\n",
       "Number of Classes:  2 \n",
       "\n",
       "Levels: \n",
       " 0 1\n",
       "\n",
       "4-fold cross-validation on training data:\n",
       "\n",
       "Total Accuracy: 64.41103 \n",
       "Single Accuracies:\n",
       " 66.66667 68 59 64 \n",
       "\n",
       "\n"
      ]
     },
     "metadata": {},
     "output_type": "display_data"
    }
   ],
   "source": [
    "svmfitP = svm(Start_Tech_Oscar~., data=trainc , kernel =\"polynomial\", cost=1, degree=2)\n",
    "# Hyperparameter Tuning\n",
    "tune.outP=tune(svm ,Start_Tech_Oscar~.,data=trainc, cross = 4, kernel=\"polynomial\", ranges =list(cost=c(0.001,0.1, 1,5,10),degree=c(0.5,1,2,3,5) ))\n",
    "bestmodP =tune.outP$best.model\n",
    "summary(bestmodP)"
   ]
  },
  {
   "cell_type": "code",
   "execution_count": 31,
   "id": "63005fe5",
   "metadata": {},
   "outputs": [
    {
     "data": {
      "text/plain": [
       "       truth\n",
       "predict  0  1\n",
       "      0 29 21\n",
       "      1 21 36"
      ]
     },
     "metadata": {},
     "output_type": "display_data"
    }
   ],
   "source": [
    "testc$poly = predict(bestmodP,testc)\n",
    "table(predict=testc$poly, truth=testc$Start_Tech_Oscar)"
   ]
  },
  {
   "cell_type": "code",
   "execution_count": 32,
   "id": "26e4c784",
   "metadata": {},
   "outputs": [
    {
     "data": {
      "text/html": [
       "60.7476635514019"
      ],
      "text/latex": [
       "60.7476635514019"
      ],
      "text/markdown": [
       "60.7476635514019"
      ],
      "text/plain": [
       "[1] 60.74766"
      ]
     },
     "metadata": {},
     "output_type": "display_data"
    }
   ],
   "source": [
    "65/107*100"
   ]
  },
  {
   "cell_type": "markdown",
   "id": "7aac595b",
   "metadata": {},
   "source": [
    "The best model comes at cost=5 and degree=1. This indicates that there is a linear relationship between Start_Tech_Oscar and other variables\n"
   ]
  },
  {
   "cell_type": "markdown",
   "id": "3cfa9e51",
   "metadata": {},
   "source": [
    "### 3. Radial Kernel"
   ]
  },
  {
   "cell_type": "code",
   "execution_count": 33,
   "id": "97d2a974",
   "metadata": {},
   "outputs": [
    {
     "data": {
      "text/plain": [
       "\n",
       "Parameter tuning of 'svm':\n",
       "\n",
       "- sampling method: 10-fold cross validation \n",
       "\n",
       "- best parameters:\n",
       " cost gamma\n",
       "   10   0.5\n",
       "\n",
       "- best performance: 0.3558333 \n",
       "\n",
       "- Detailed performance results:\n",
       "    cost gamma     error dispersion\n",
       "1  1e-03  0.01 0.4514103 0.06055255\n",
       "2  1e-02  0.01 0.4514103 0.06055255\n",
       "3  1e-01  0.01 0.4514103 0.06055255\n",
       "4  1e+00  0.01 0.4014103 0.08459693\n",
       "5  1e+01  0.01 0.3884615 0.06249918\n",
       "6  1e+02  0.01 0.4234615 0.06748024\n",
       "7  1e+03  0.01 0.4210897 0.06006094\n",
       "8  1e-03  0.10 0.4514103 0.06055255\n",
       "9  1e-02  0.10 0.4514103 0.06055255\n",
       "10 1e-01  0.10 0.4514103 0.06055255\n",
       "11 1e+00  0.10 0.3833974 0.06416269\n",
       "12 1e+01  0.10 0.4057692 0.09170476\n",
       "13 1e+02  0.10 0.3933974 0.08291372\n",
       "14 1e+03  0.10 0.3933974 0.08291372\n",
       "15 1e-03  0.50 0.4514103 0.06055255\n",
       "16 1e-02  0.50 0.4514103 0.06055255\n",
       "17 1e-01  0.50 0.4514103 0.06055255\n",
       "18 1e+00  0.50 0.3659615 0.06392315\n",
       "19 1e+01  0.50 0.3558333 0.05583955\n",
       "20 1e+02  0.50 0.3558333 0.05583955\n",
       "21 1e+03  0.50 0.3558333 0.05583955\n",
       "22 1e-03  1.00 0.4514103 0.06055255\n",
       "23 1e-02  1.00 0.4514103 0.06055255\n",
       "24 1e-01  1.00 0.4514103 0.06055255\n",
       "25 1e+00  1.00 0.4538462 0.05289141\n",
       "26 1e+01  1.00 0.4287821 0.06977695\n",
       "27 1e+02  1.00 0.4287821 0.06977695\n",
       "28 1e+03  1.00 0.4287821 0.06977695\n",
       "29 1e-03  2.00 0.4514103 0.06055255\n",
       "30 1e-02  2.00 0.4514103 0.06055255\n",
       "31 1e-01  2.00 0.4514103 0.06055255\n",
       "32 1e+00  2.00 0.4514103 0.06055255\n",
       "33 1e+01  2.00 0.4539103 0.05626475\n",
       "34 1e+02  2.00 0.4539103 0.05626475\n",
       "35 1e+03  2.00 0.4539103 0.05626475\n",
       "36 1e-03  3.00 0.4514103 0.06055255\n",
       "37 1e-02  3.00 0.4514103 0.06055255\n",
       "38 1e-01  3.00 0.4514103 0.06055255\n",
       "39 1e+00  3.00 0.4514103 0.06055255\n",
       "40 1e+01  3.00 0.4514103 0.06055255\n",
       "41 1e+02  3.00 0.4514103 0.06055255\n",
       "42 1e+03  3.00 0.4514103 0.06055255\n",
       "43 1e-03  4.00 0.4514103 0.06055255\n",
       "44 1e-02  4.00 0.4514103 0.06055255\n",
       "45 1e-01  4.00 0.4514103 0.06055255\n",
       "46 1e+00  4.00 0.4514103 0.06055255\n",
       "47 1e+01  4.00 0.4514103 0.06055255\n",
       "48 1e+02  4.00 0.4514103 0.06055255\n",
       "49 1e+03  4.00 0.4514103 0.06055255\n",
       "50 1e-03 10.00 0.4514103 0.06055255\n",
       "51 1e-02 10.00 0.4514103 0.06055255\n",
       "52 1e-01 10.00 0.4514103 0.06055255\n",
       "53 1e+00 10.00 0.4514103 0.06055255\n",
       "54 1e+01 10.00 0.4514103 0.06055255\n",
       "55 1e+02 10.00 0.4514103 0.06055255\n",
       "56 1e+03 10.00 0.4514103 0.06055255\n",
       "57 1e-03 50.00 0.4514103 0.06055255\n",
       "58 1e-02 50.00 0.4514103 0.06055255\n",
       "59 1e-01 50.00 0.4514103 0.06055255\n",
       "60 1e+00 50.00 0.4514103 0.06055255\n",
       "61 1e+01 50.00 0.4514103 0.06055255\n",
       "62 1e+02 50.00 0.4514103 0.06055255\n",
       "63 1e+03 50.00 0.4514103 0.06055255\n"
      ]
     },
     "metadata": {},
     "output_type": "display_data"
    },
    {
     "data": {
      "text/plain": [
       "\n",
       "Call:\n",
       "best.tune(METHOD = svm, train.x = Start_Tech_Oscar ~ ., data = trainc, \n",
       "    ranges = list(cost = c(0.001, 0.01, 0.1, 1, 10, 100, 1000), gamma = c(0.01, \n",
       "        0.1, 0.5, 1, 2, 3, 4, 10, 50)), kernel = \"radial\")\n",
       "\n",
       "\n",
       "Parameters:\n",
       "   SVM-Type:  C-classification \n",
       " SVM-Kernel:  radial \n",
       "       cost:  10 \n",
       "\n",
       "Number of Support Vectors:  399\n",
       "\n",
       " ( 219 180 )\n",
       "\n",
       "\n",
       "Number of Classes:  2 \n",
       "\n",
       "Levels: \n",
       " 0 1\n",
       "\n",
       "\n"
      ]
     },
     "metadata": {},
     "output_type": "display_data"
    }
   ],
   "source": [
    "svmfitR = svm(Start_Tech_Oscar~., data=trainc , kernel = \"radial\", gamma =1, cost =1)\n",
    "tune.outR = tune(svm ,Start_Tech_Oscar~.,data=trainc ,kernel=\"radial\", ranges = list(cost=c(0.001, 0.01,0.1 ,1 ,10 ,100 ,1000), gamma=c(0.01, 0.1,0.5,1,2,3,4,10, 50) ))\n",
    "summary(tune.outR)\n",
    "bestmodR =tune.outR$best.model\n",
    "summary(bestmodR)"
   ]
  },
  {
   "cell_type": "code",
   "execution_count": 34,
   "id": "f164c7ed",
   "metadata": {},
   "outputs": [
    {
     "data": {
      "text/plain": [
       "       truth\n",
       "predict  0  1\n",
       "      0 19 18\n",
       "      1 31 39"
      ]
     },
     "metadata": {},
     "output_type": "display_data"
    }
   ],
   "source": [
    "testc$radial=predict (bestmodR,testc)\n",
    "table(predict=testc$radial, truth=testc$Start_Tech_Oscar)"
   ]
  },
  {
   "cell_type": "code",
   "execution_count": 35,
   "id": "28ef3510",
   "metadata": {},
   "outputs": [
    {
     "data": {
      "text/html": [
       "54.2056074766355"
      ],
      "text/latex": [
       "54.2056074766355"
      ],
      "text/markdown": [
       "54.2056074766355"
      ],
      "text/plain": [
       "[1] 54.20561"
      ]
     },
     "metadata": {},
     "output_type": "display_data"
    }
   ],
   "source": [
    "58/107*100"
   ]
  },
  {
   "cell_type": "markdown",
   "id": "61df3c68",
   "metadata": {},
   "source": [
    "# Conclusion"
   ]
  },
  {
   "cell_type": "markdown",
   "id": "d1b85153",
   "metadata": {},
   "source": [
    "The bagging model provides the best accuracy on the test set as 67.28% and it is best for predicting whether a movie has won an oscar or not"
   ]
  }
 ],
 "metadata": {
  "kernelspec": {
   "display_name": "R",
   "language": "R",
   "name": "ir"
  },
  "language_info": {
   "codemirror_mode": "r",
   "file_extension": ".r",
   "mimetype": "text/x-r-source",
   "name": "R",
   "pygments_lexer": "r",
   "version": "4.3.2"
  }
 },
 "nbformat": 4,
 "nbformat_minor": 5
}
