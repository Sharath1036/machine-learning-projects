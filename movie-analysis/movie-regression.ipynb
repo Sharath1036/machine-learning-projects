{
 "cells": [
  {
   "cell_type": "code",
   "execution_count": 1,
   "id": "205e845f",
   "metadata": {},
   "outputs": [
    {
     "data": {
      "text/html": [
       "<style>\n",
       ".list-inline {list-style: none; margin:0; padding: 0}\n",
       ".list-inline>li {display: inline-block}\n",
       ".list-inline>li:not(:last-child)::after {content: \"\\00b7\"; padding: 0 .5ex}\n",
       "</style>\n",
       "<ol class=list-inline><li>506</li><li>18</li></ol>\n"
      ],
      "text/latex": [
       "\\begin{enumerate*}\n",
       "\\item 506\n",
       "\\item 18\n",
       "\\end{enumerate*}\n"
      ],
      "text/markdown": [
       "1. 506\n",
       "2. 18\n",
       "\n",
       "\n"
      ],
      "text/plain": [
       "[1] 506  18"
      ]
     },
     "metadata": {},
     "output_type": "display_data"
    }
   ],
   "source": [
    "movie <- read.csv(\"E:/Machine Learning/Datasets/Movie_regression.csv\", header = TRUE)\n",
    "dim(movie)"
   ]
  },
  {
   "cell_type": "code",
   "execution_count": 2,
   "id": "a47dbaa8",
   "metadata": {},
   "outputs": [
    {
     "data": {
      "text/plain": [
       " Marketing.expense Production.expense Multiplex.coverage     Budget     \n",
       " Min.   :  20.13   Min.   : 55.92     Min.   :0.1290     Min.   :19781  \n",
       " 1st Qu.:  21.64   1st Qu.: 65.38     1st Qu.:0.3760     1st Qu.:32694  \n",
       " Median :  25.13   Median : 74.38     Median :0.4620     Median :34488  \n",
       " Mean   :  92.27   Mean   : 77.27     Mean   :0.4453     Mean   :34911  \n",
       " 3rd Qu.:  93.54   3rd Qu.: 91.20     3rd Qu.:0.5510     3rd Qu.:36794  \n",
       " Max.   :1799.52   Max.   :110.48     Max.   :0.6150     Max.   :48773  \n",
       "                                                                        \n",
       "  Movie_length   Lead_.Actor_Rating Lead_Actress_rating Director_rating\n",
       " Min.   : 76.4   Min.   :3.840      Min.   :4.035       Min.   :3.840  \n",
       " 1st Qu.:118.5   1st Qu.:7.316      1st Qu.:7.504       1st Qu.:7.296  \n",
       " Median :151.0   Median :8.307      Median :8.495       Median :8.312  \n",
       " Mean   :142.1   Mean   :8.014      Mean   :8.186       Mean   :8.020  \n",
       " 3rd Qu.:167.6   3rd Qu.:8.865      3rd Qu.:9.030       3rd Qu.:8.884  \n",
       " Max.   :173.5   Max.   :9.435      Max.   :9.540       Max.   :9.425  \n",
       "                                                                       \n",
       " Producer_rating Critic_rating   Trailer_views    X3D_available     \n",
       " Min.   :4.030   Min.   :6.600   Min.   :212912   Length:506        \n",
       " 1st Qu.:7.508   1st Qu.:7.200   1st Qu.:409128   Class :character  \n",
       " Median :8.465   Median :7.960   Median :462460   Mode  :character  \n",
       " Mean   :8.191   Mean   :7.811   Mean   :449861                     \n",
       " 3rd Qu.:9.030   3rd Qu.:8.260   3rd Qu.:500248                     \n",
       " Max.   :9.635   Max.   :9.400   Max.   :567784                     \n",
       "                                                                    \n",
       "   Time_taken    Twitter_hastags     Genre           Avg_age_actors \n",
       " Min.   :  0.0   Min.   : 201.2   Length:506         Min.   : 3.00  \n",
       " 1st Qu.:132.3   1st Qu.: 223.8   Class :character   1st Qu.:28.00  \n",
       " Median :160.0   Median : 254.4   Mode  :character   Median :39.00  \n",
       " Mean   :157.4   Mean   : 260.8                      Mean   :39.18  \n",
       " 3rd Qu.:181.9   3rd Qu.: 283.4                      3rd Qu.:50.00  \n",
       " Max.   :217.5   Max.   :2022.4                      Max.   :60.00  \n",
       " NA's   :12                                                         \n",
       " Num_multiplex     Collection    \n",
       " Min.   :333.0   Min.   : 10000  \n",
       " 1st Qu.:465.0   1st Qu.: 34050  \n",
       " Median :535.5   Median : 42400  \n",
       " Mean   :545.0   Mean   : 45058  \n",
       " 3rd Qu.:614.8   3rd Qu.: 50000  \n",
       " Max.   :868.0   Max.   :100000  \n",
       "                                 "
      ]
     },
     "metadata": {},
     "output_type": "display_data"
    }
   ],
   "source": [
    "summary(movie)"
   ]
  },
  {
   "cell_type": "code",
   "execution_count": 3,
   "id": "1bb520b9",
   "metadata": {},
   "outputs": [
    {
     "data": {
      "text/html": [
       "0"
      ],
      "text/latex": [
       "0"
      ],
      "text/markdown": [
       "0"
      ],
      "text/plain": [
       "[1] 0"
      ]
     },
     "metadata": {},
     "output_type": "display_data"
    }
   ],
   "source": [
    "# The Time_taken variable has missing values. So we do missing value imputation\n",
    "movie$Time_taken[is.na(movie$Time_taken)] <- mean(movie$Time_taken, na.rm=TRUE)\n",
    "sum(is.na(movie))"
   ]
  },
  {
   "cell_type": "markdown",
   "id": "458520a3",
   "metadata": {},
   "source": [
    "# Test-Train Split"
   ]
  },
  {
   "cell_type": "code",
   "execution_count": 4,
   "id": "2a6eab6e",
   "metadata": {},
   "outputs": [],
   "source": [
    "library(caTools)\n",
    "set.seed(0)\n",
    "split <- sample.split(movie,SplitRatio = 0.8)\n",
    "train <- subset(movie, split==TRUE)\n",
    "test <- subset(movie, split==FALSE)"
   ]
  },
  {
   "cell_type": "code",
   "execution_count": 5,
   "id": "46a2cafc",
   "metadata": {},
   "outputs": [
    {
     "data": {
      "text/html": [
       "<style>\n",
       ".list-inline {list-style: none; margin:0; padding: 0}\n",
       ".list-inline>li {display: inline-block}\n",
       ".list-inline>li:not(:last-child)::after {content: \"\\00b7\"; padding: 0 .5ex}\n",
       "</style>\n",
       "<ol class=list-inline><li>393</li><li>18</li></ol>\n"
      ],
      "text/latex": [
       "\\begin{enumerate*}\n",
       "\\item 393\n",
       "\\item 18\n",
       "\\end{enumerate*}\n"
      ],
      "text/markdown": [
       "1. 393\n",
       "2. 18\n",
       "\n",
       "\n"
      ],
      "text/plain": [
       "[1] 393  18"
      ]
     },
     "metadata": {},
     "output_type": "display_data"
    },
    {
     "data": {
      "text/html": [
       "<style>\n",
       ".list-inline {list-style: none; margin:0; padding: 0}\n",
       ".list-inline>li {display: inline-block}\n",
       ".list-inline>li:not(:last-child)::after {content: \"\\00b7\"; padding: 0 .5ex}\n",
       "</style>\n",
       "<ol class=list-inline><li>113</li><li>18</li></ol>\n"
      ],
      "text/latex": [
       "\\begin{enumerate*}\n",
       "\\item 113\n",
       "\\item 18\n",
       "\\end{enumerate*}\n"
      ],
      "text/markdown": [
       "1. 113\n",
       "2. 18\n",
       "\n",
       "\n"
      ],
      "text/plain": [
       "[1] 113  18"
      ]
     },
     "metadata": {},
     "output_type": "display_data"
    }
   ],
   "source": [
    "dim(train)\n",
    "dim(test)"
   ]
  },
  {
   "cell_type": "markdown",
   "id": "e78a682e",
   "metadata": {},
   "source": [
    "# Decision Tree"
   ]
  },
  {
   "cell_type": "code",
   "execution_count": 6,
   "id": "0109725a",
   "metadata": {},
   "outputs": [
    {
     "name": "stdout",
     "output_type": "stream",
     "text": [
      "\n",
      "Regression tree:\n",
      "rpart(formula = Collection ~ ., data = train, control = rpart.control(maxdepth = 8))\n",
      "\n",
      "Variables actually used in tree construction:\n",
      "[1] Budget            Director_rating   Marketing.expense Trailer_views    \n",
      "\n",
      "Root node error: 1.3086e+11/393 = 332989821\n",
      "\n",
      "n= 393 \n",
      "\n",
      "        CP nsplit rel error  xerror     xstd\n",
      "1 0.435077      0   1.00000 1.00437 0.095689\n",
      "2 0.156588      1   0.56492 0.61086 0.070385\n",
      "3 0.090647      2   0.40834 0.45315 0.058600\n",
      "4 0.048872      3   0.31769 0.34382 0.050577\n",
      "5 0.031052      4   0.26882 0.38878 0.056458\n",
      "6 0.021724      5   0.23776 0.32729 0.047242\n",
      "7 0.014585      6   0.21604 0.31481 0.048867\n",
      "8 0.010000      7   0.20146 0.31447 0.048818\n"
     ]
    },
    {
     "data": {
      "image/png": "[encoded data removed]",
      "text/plain": [
       "plot without title"
      ]
     },
     "metadata": {
      "image/png": {
       "height": 420,
       "width": 420
      }
     },
     "output_type": "display_data"
    }
   ],
   "source": [
    "library(rpart)\n",
    "library(rpart.plot)\n",
    "\n",
    "regtree <- rpart(Collection~., data=train, control=rpart.control(maxdepth = 8))\n",
    "rpart.plot(regtree, digits=-3)\n",
    "printcp(regtree)"
   ]
  },
  {
   "cell_type": "code",
   "execution_count": 8,
   "id": "23a94f11",
   "metadata": {},
   "outputs": [
    {
     "data": {
      "text/html": [
       "97922424.2600073"
      ],
      "text/latex": [
       "97922424.2600073"
      ],
      "text/markdown": [
       "97922424.2600073"
      ],
      "text/plain": [
       "[1] 97922424"
      ]
     },
     "metadata": {},
     "output_type": "display_data"
    }
   ],
   "source": [
    "# Predicting values on test set\n",
    "test$regtree <- predict(regtree, test, type=\"vector\")\n",
    "MSEregtree <- mean((test$regtree - test$Collection)^2)\n",
    "MSEregtree"
   ]
  },
  {
   "cell_type": "markdown",
   "id": "71ee4d24",
   "metadata": {},
   "source": [
    "# Full Tree"
   ]
  },
  {
   "cell_type": "code",
   "execution_count": 9,
   "id": "44fbe539",
   "metadata": {},
   "outputs": [
    {
     "name": "stdout",
     "output_type": "stream",
     "text": [
      "\n",
      "Regression tree:\n",
      "rpart(formula = Collection ~ ., data = train, control = rpart.control(cp = 0))\n",
      "\n",
      "Variables actually used in tree construction:\n",
      " [1] Avg_age_actors      Budget              Critic_rating      \n",
      " [4] Director_rating     Genre               Lead_.Actor_Rating \n",
      " [7] Lead_Actress_rating Marketing.expense   Movie_length       \n",
      "[10] Multiplex.coverage  Production.expense  Time_taken         \n",
      "[13] Trailer_views       Twitter_hastags     X3D_available      \n",
      "\n",
      "Root node error: 1.3086e+11/393 = 332989821\n",
      "\n",
      "n= 393 \n",
      "\n",
      "           CP nsplit rel error  xerror     xstd\n",
      "1  0.43507653      0   1.00000 1.00273 0.095500\n",
      "2  0.15658756      1   0.56492 0.58950 0.066680\n",
      "3  0.09064716      2   0.40834 0.43374 0.054116\n",
      "4  0.04887218      3   0.31769 0.34122 0.048513\n",
      "5  0.03105207      4   0.26882 0.36855 0.053490\n",
      "6  0.02172378      5   0.23776 0.30922 0.046400\n",
      "7  0.01458513      6   0.21604 0.27922 0.042112\n",
      "8  0.00977123      7   0.20146 0.28362 0.041988\n",
      "9  0.00935818      8   0.19168 0.28225 0.041985\n",
      "10 0.00808528      9   0.18233 0.29373 0.042983\n",
      "11 0.00793019     10   0.17424 0.29301 0.042983\n",
      "12 0.00548094     11   0.16631 0.27704 0.041450\n",
      "13 0.00507787     12   0.16083 0.26325 0.040938\n",
      "14 0.00476304     13   0.15575 0.26155 0.040922\n",
      "15 0.00331305     14   0.15099 0.25770 0.040956\n",
      "16 0.00291437     15   0.14768 0.25791 0.040942\n",
      "17 0.00263491     16   0.14476 0.25580 0.040943\n",
      "18 0.00200138     17   0.14213 0.25596 0.041052\n",
      "19 0.00196853     18   0.14013 0.25447 0.041500\n",
      "20 0.00153874     19   0.13816 0.25376 0.041501\n",
      "21 0.00135750     20   0.13662 0.25523 0.041490\n",
      "22 0.00130090     21   0.13526 0.25438 0.041492\n",
      "23 0.00122409     22   0.13396 0.25314 0.041493\n",
      "24 0.00084140     23   0.13274 0.25129 0.041516\n",
      "25 0.00075770     24   0.13189 0.25177 0.041500\n",
      "26 0.00074873     25   0.13114 0.25154 0.041487\n",
      "27 0.00073565     27   0.12964 0.25139 0.041488\n",
      "28 0.00067572     28   0.12890 0.25220 0.041481\n",
      "29 0.00047007     29   0.12823 0.25244 0.041454\n",
      "30 0.00039681     30   0.12776 0.25213 0.041464\n",
      "31 0.00034292     31   0.12736 0.25272 0.041469\n",
      "32 0.00028553     32   0.12702 0.25263 0.041472\n",
      "33 0.00000000     33   0.12673 0.25239 0.041472\n"
     ]
    },
    {
     "data": {
      "image/png": "[encoded data removed]",
      "text/plain": [
       "plot without title"
      ]
     },
     "metadata": {
      "image/png": {
       "height": 420,
       "width": 420
      }
     },
     "output_type": "display_data"
    }
   ],
   "source": [
    "fulltree <- rpart(Collection~., data=train, control=rpart.control(cp=0))\n",
    "rpart.plot(fulltree, digits=-3)\n",
    "printcp(fulltree)"
   ]
  },
  {
   "cell_type": "code",
   "execution_count": 10,
   "id": "ce069851",
   "metadata": {},
   "outputs": [
    {
     "data": {
      "text/html": [
       "0.01"
      ],
      "text/latex": [
       "0.01"
      ],
      "text/markdown": [
       "0.01"
      ],
      "text/plain": [
       "[1] 0.01"
      ]
     },
     "metadata": {},
     "output_type": "display_data"
    }
   ],
   "source": [
    "mincp <- regtree$cptable[which.min(regtree$cptable[,\"xerror\"]), \"CP\"]\n",
    "mincp"
   ]
  },
  {
   "cell_type": "code",
   "execution_count": 11,
   "id": "0ef16525",
   "metadata": {},
   "outputs": [
    {
     "data": {
      "text/html": [
       "99037641.5390719"
      ],
      "text/latex": [
       "99037641.5390719"
      ],
      "text/markdown": [
       "99037641.5390719"
      ],
      "text/plain": [
       "[1] 99037642"
      ]
     },
     "metadata": {},
     "output_type": "display_data"
    }
   ],
   "source": [
    "test$fulltree <- predict(fulltree, test, type=\"vector\")\n",
    "MSEfull <- mean((test$fulltree - test$Collection)^2)\n",
    "MSEfull"
   ]
  },
  {
   "cell_type": "markdown",
   "id": "d0a72d4d",
   "metadata": {},
   "source": [
    "# Pruned Tree"
   ]
  },
  {
   "cell_type": "code",
   "execution_count": 12,
   "id": "df51aa9a",
   "metadata": {},
   "outputs": [
    {
     "data": {
      "image/png": "[encoded data removed]",
      "text/plain": [
       "plot without title"
      ]
     },
     "metadata": {
      "image/png": {
       "height": 420,
       "width": 420
      }
     },
     "output_type": "display_data"
    }
   ],
   "source": [
    "prunedtree<-prune(fulltree, cp= mincp )\n",
    "rpart.plot(prunedtree, digits=-3)"
   ]
  },
  {
   "cell_type": "code",
   "execution_count": 13,
   "id": "7611cf6a",
   "metadata": {},
   "outputs": [
    {
     "data": {
      "text/html": [
       "97922424.2600073"
      ],
      "text/latex": [
       "97922424.2600073"
      ],
      "text/markdown": [
       "97922424.2600073"
      ],
      "text/plain": [
       "[1] 97922424"
      ]
     },
     "metadata": {},
     "output_type": "display_data"
    }
   ],
   "source": [
    "test$pruned <- predict(prunedtree, test, type=\"vector\")\n",
    "MSE2pruned <- mean((test$pruned - test$Collection)^2)\n",
    "MSE2pruned"
   ]
  },
  {
   "cell_type": "markdown",
   "id": "c1b355ee",
   "metadata": {},
   "source": [
    "# Bagging"
   ]
  },
  {
   "cell_type": "code",
   "execution_count": 14,
   "id": "abe7391a",
   "metadata": {},
   "outputs": [
    {
     "name": "stderr",
     "output_type": "stream",
     "text": [
      "randomForest 4.7-1.1\n",
      "\n",
      "Type rfNews() to see new features/changes/bug fixes.\n",
      "\n"
     ]
    },
    {
     "data": {
      "text/html": [
       "52304349.8468846"
      ],
      "text/latex": [
       "52304349.8468846"
      ],
      "text/markdown": [
       "52304349.8468846"
      ],
      "text/plain": [
       "[1] 52304350"
      ]
     },
     "metadata": {},
     "output_type": "display_data"
    }
   ],
   "source": [
    "library(randomForest)\n",
    "set.seed(0)\n",
    "bagging <- randomForest(Collection~., data=train, mtry=17)\n",
    "test$bagging <- predict(bagging, test)\n",
    "MSEbagging <- mean((test$bagging - test$Collection)^2)\n",
    "MSEbagging"
   ]
  },
  {
   "cell_type": "markdown",
   "id": "795ee9fe",
   "metadata": {},
   "source": [
    "# Random Forest"
   ]
  },
  {
   "cell_type": "code",
   "execution_count": 15,
   "id": "80571f82",
   "metadata": {},
   "outputs": [
    {
     "data": {
      "text/html": [
       "43504107.514647"
      ],
      "text/latex": [
       "43504107.514647"
      ],
      "text/markdown": [
       "43504107.514647"
      ],
      "text/plain": [
       "[1] 43504108"
      ]
     },
     "metadata": {},
     "output_type": "display_data"
    }
   ],
   "source": [
    "randomforest <- randomForest(Collection~., data=train, ntree=500)\n",
    "test$randomforest <- predict(randomforest, test)\n",
    "MSErandomforest <- mean((test$randomforest - test$Collection)^2)\n",
    "MSErandomforest"
   ]
  },
  {
   "cell_type": "markdown",
   "id": "37bd3b63",
   "metadata": {},
   "source": [
    "# Gradient Boost"
   ]
  },
  {
   "cell_type": "code",
   "execution_count": 16,
   "id": "a5741783",
   "metadata": {},
   "outputs": [
    {
     "name": "stderr",
     "output_type": "stream",
     "text": [
      "Loaded gbm 2.1.8.1\n",
      "\n",
      "Warning message in predict.gbm(gradient, test, n.trees = 5000):\n",
      "\"NAs introduced by coercion\"\n"
     ]
    },
    {
     "data": {
      "text/html": [
       "56865782.9825659"
      ],
      "text/latex": [
       "56865782.9825659"
      ],
      "text/markdown": [
       "56865782.9825659"
      ],
      "text/plain": [
       "[1] 56865783"
      ]
     },
     "metadata": {},
     "output_type": "display_data"
    }
   ],
   "source": [
    "library(gbm)\n",
    "set.seed(0)\n",
    "\n",
    "# First we convert X3D_available and Genre variables into factors\n",
    "train$X3D_available <- as.factor(train$X3D_available)\n",
    "train$Genre <- as.factor(train$Genre)\n",
    "\n",
    "gradient <- gbm(Collection~., data=train, distribution=\"gaussian\", n.trees=5000, interaction.depth=4, shrinkage=0.2, verbose = F)\n",
    "test$gradient <- predict(gradient, test, n.trees=5000)\n",
    "MSEgradient <- mean((test$gradient-test$Collection)^2)\n",
    "MSEgradient"
   ]
  },
  {
   "cell_type": "markdown",
   "id": "76650ba1",
   "metadata": {},
   "source": [
    "# Support Vector Machines"
   ]
  },
  {
   "cell_type": "code",
   "execution_count": 17,
   "id": "a733958e",
   "metadata": {},
   "outputs": [
    {
     "data": {
      "text/plain": [
       "\n",
       "Call:\n",
       "svm(formula = Collection ~ ., data = train, kernel = \"linear\", cost = 0.01, \n",
       "    scale = TRUE)\n",
       "\n",
       "\n",
       "Parameters:\n",
       "   SVM-Type:  eps-regression \n",
       " SVM-Kernel:  linear \n",
       "       cost:  0.01 \n",
       "      gamma:  0.05 \n",
       "    epsilon:  0.1 \n",
       "\n",
       "\n",
       "Number of Support Vectors:  316\n",
       "\n",
       "\n",
       "\n",
       "\n"
      ]
     },
     "metadata": {},
     "output_type": "display_data"
    }
   ],
   "source": [
    "library (e1071)\n",
    "svmfit = svm(Collection~., data=train , kernel = \"linear\", cost =0.01, scale = TRUE )\n",
    "summary (svmfit)"
   ]
  },
  {
   "cell_type": "code",
   "execution_count": 18,
   "id": "e2cd7360",
   "metadata": {},
   "outputs": [
    {
     "data": {
      "text/html": [
       "102267174.052442"
      ],
      "text/latex": [
       "102267174.052442"
      ],
      "text/markdown": [
       "102267174.052442"
      ],
      "text/plain": [
       "[1] 102267174"
      ]
     },
     "metadata": {},
     "output_type": "display_data"
    }
   ],
   "source": [
    "## Predicting on test set\n",
    "test$svm = predict (svmfit ,test)\n",
    "MSEsvm <- mean((test$svm-test$Collection)^2)\n",
    "MSEsvm"
   ]
  },
  {
   "cell_type": "code",
   "execution_count": 19,
   "id": "6742dc6f",
   "metadata": {},
   "outputs": [
    {
     "data": {
      "image/png": "[encoded data removed]",
      "text/plain": [
       "plot without title"
      ]
     },
     "metadata": {
      "image/png": {
       "height": 420,
       "width": 420
      }
     },
     "output_type": "display_data"
    }
   ],
   "source": [
    "plot(test$svm,test$Collection)"
   ]
  },
  {
   "cell_type": "markdown",
   "id": "7fb7bea9",
   "metadata": {},
   "source": [
    "# Conclusion"
   ]
  },
  {
   "cell_type": "markdown",
   "id": "46539953",
   "metadata": {},
   "source": [
    "The Random Forest model provides the least mean squared error rate as 43 Million on the test set. Hence, this model is the best for predicting the box office collection"
   ]
  },
  {
   "cell_type": "code",
   "execution_count": 19,
   "id": "879448ef",
   "metadata": {
    "scrolled": true
   },
   "outputs": [
    {
     "data": {
      "text/html": [
       "<table class=\"dataframe\">\n",
       "<caption>A data.frame: 113 × 25</caption>\n",
       "<thead>\n",
       "\t<tr><th></th><th scope=col>Marketing.expense</th><th scope=col>Production.expense</th><th scope=col>Multiplex.coverage</th><th scope=col>Budget</th><th scope=col>Movie_length</th><th scope=col>Lead_.Actor_Rating</th><th scope=col>Lead_Actress_rating</th><th scope=col>Director_rating</th><th scope=col>Producer_rating</th><th scope=col>Critic_rating</th><th scope=col>⋯</th><th scope=col>Avg_age_actors</th><th scope=col>Num_multiplex</th><th scope=col>Collection</th><th scope=col>regtree</th><th scope=col>fulltree</th><th scope=col>pruned</th><th scope=col>bagging</th><th scope=col>randomforest</th><th scope=col>gradient</th><th scope=col>svm</th></tr>\n",
       "\t<tr><th></th><th scope=col>&lt;dbl&gt;</th><th scope=col>&lt;dbl&gt;</th><th scope=col>&lt;dbl&gt;</th><th scope=col>&lt;dbl&gt;</th><th scope=col>&lt;dbl&gt;</th><th scope=col>&lt;dbl&gt;</th><th scope=col>&lt;dbl&gt;</th><th scope=col>&lt;dbl&gt;</th><th scope=col>&lt;dbl&gt;</th><th scope=col>&lt;dbl&gt;</th><th scope=col>⋯</th><th scope=col>&lt;int&gt;</th><th scope=col>&lt;int&gt;</th><th scope=col>&lt;int&gt;</th><th scope=col>&lt;dbl&gt;</th><th scope=col>&lt;dbl&gt;</th><th scope=col>&lt;dbl&gt;</th><th scope=col>&lt;dbl&gt;</th><th scope=col>&lt;dbl&gt;</th><th scope=col>&lt;dbl&gt;</th><th scope=col>&lt;dbl&gt;</th></tr>\n",
       "</thead>\n",
       "<tbody>\n",
       "\t<tr><th scope=row>1</th><td>20.1264</td><td> 59.62</td><td>0.462</td><td>36524.12</td><td>138.7</td><td>7.825</td><td>8.095</td><td>7.910</td><td>7.995</td><td>7.94</td><td>⋯</td><td>23</td><td>494</td><td>48000</td><td>54016.67</td><td>59953.85</td><td>54016.67</td><td>53936.22</td><td>55897.48</td><td>50613.78</td><td>54581.61</td></tr>\n",
       "\t<tr><th scope=row>5</th><td>21.3810</td><td> 59.36</td><td>0.542</td><td>39701.58</td><td>127.7</td><td>6.920</td><td>7.070</td><td>6.815</td><td>7.070</td><td>8.26</td><td>⋯</td><td>55</td><td>395</td><td>72400</td><td>65961.11</td><td>72757.14</td><td>65961.11</td><td>70762.30</td><td>68534.57</td><td>72319.41</td><td>59983.30</td></tr>\n",
       "\t<tr><th scope=row>7</th><td>21.7658</td><td> 70.74</td><td>0.476</td><td>33396.66</td><td>140.1</td><td>7.065</td><td>7.265</td><td>7.150</td><td>7.400</td><td>8.96</td><td>⋯</td><td>41</td><td>522</td><td>45800</td><td>43983.21</td><td>41369.23</td><td>43983.21</td><td>39609.41</td><td>40542.90</td><td>41556.93</td><td>44810.35</td></tr>\n",
       "\t<tr><th scope=row>8</th><td>22.8910</td><td> 70.74</td><td>0.476</td><td>34285.46</td><td>169.6</td><td>6.980</td><td>7.075</td><td>6.875</td><td>7.170</td><td>7.96</td><td>⋯</td><td>56</td><td>571</td><td>44200</td><td>35536.08</td><td>34544.44</td><td>35536.08</td><td>36053.79</td><td>35743.15</td><td>36756.71</td><td>35588.30</td></tr>\n",
       "\t<tr><th scope=row>19</th><td>36.0542</td><td> 71.28</td><td>0.462</td><td>30308.08</td><td>110.1</td><td>8.100</td><td>8.240</td><td>8.070</td><td>8.000</td><td>6.80</td><td>⋯</td><td>41</td><td>543</td><td>40400</td><td>43983.21</td><td>37400.00</td><td>43983.21</td><td>39103.39</td><td>39836.95</td><td>40141.98</td><td>36061.35</td></tr>\n",
       "\t<tr><th scope=row>23</th><td>44.6494</td><td> 71.28</td><td>0.462</td><td>34118.81</td><td>165.2</td><td>7.910</td><td>8.010</td><td>7.845</td><td>8.275</td><td>6.80</td><td>⋯</td><td>48</td><td>575</td><td>30400</td><td>35536.08</td><td>37733.33</td><td>35536.08</td><td>32060.67</td><td>32735.63</td><td>32004.69</td><td>35238.18</td></tr>\n",
       "\t<tr><th scope=row>25</th><td>35.0052</td><td> 71.28</td><td>0.462</td><td>32907.82</td><td>167.6</td><td>7.655</td><td>7.965</td><td>7.640</td><td>7.940</td><td>7.80</td><td>⋯</td><td>27</td><td>502</td><td>31200</td><td>35536.08</td><td>34544.44</td><td>35536.08</td><td>32592.57</td><td>34006.13</td><td>33140.29</td><td>37654.17</td></tr>\n",
       "\t<tr><th scope=row>26</th><td>36.8108</td><td> 71.28</td><td>0.462</td><td>31102.44</td><td>159.2</td><td>7.655</td><td>7.835</td><td>7.640</td><td>7.960</td><td>7.80</td><td>⋯</td><td>35</td><td>516</td><td>27800</td><td>35536.08</td><td>37733.33</td><td>35536.08</td><td>34331.47</td><td>34776.65</td><td>31660.26</td><td>35619.94</td></tr>\n",
       "\t<tr><th scope=row>37</th><td>21.9488</td><td> 66.92</td><td>0.501</td><td>32446.76</td><td>134.9</td><td>8.305</td><td>8.360</td><td>8.190</td><td>8.390</td><td>8.16</td><td>⋯</td><td>39</td><td>454</td><td>40000</td><td>43983.21</td><td>45360.00</td><td>43983.21</td><td>42321.79</td><td>44576.90</td><td>47711.34</td><td>44859.65</td></tr>\n",
       "\t<tr><th scope=row>41</th><td>20.6718</td><td> 60.90</td><td>0.572</td><td>39018.32</td><td> 89.3</td><td>7.185</td><td>7.345</td><td>7.235</td><td>7.430</td><td>8.34</td><td>⋯</td><td>20</td><td>428</td><td>69800</td><td>65961.11</td><td>57472.73</td><td>65961.11</td><td>63809.35</td><td>66252.67</td><td>67118.87</td><td>65115.32</td></tr>\n",
       "\t<tr><th scope=row>43</th><td>22.8300</td><td> 68.82</td><td>0.552</td><td>34268.79</td><td> 80.1</td><td>7.035</td><td>7.270</td><td>7.060</td><td>7.190</td><td>7.42</td><td>⋯</td><td>52</td><td>419</td><td>50600</td><td>43983.21</td><td>44266.67</td><td>43983.21</td><td>48036.90</td><td>49338.78</td><td>49061.96</td><td>49523.10</td></tr>\n",
       "\t<tr><th scope=row>44</th><td>23.1872</td><td> 68.82</td><td>0.552</td><td>34502.11</td><td> 80.0</td><td>6.980</td><td>7.170</td><td>7.080</td><td>7.330</td><td>8.42</td><td>⋯</td><td>56</td><td>449</td><td>49400</td><td>43983.21</td><td>44266.67</td><td>43983.21</td><td>47103.16</td><td>46335.75</td><td>50079.96</td><td>50847.55</td></tr>\n",
       "\t<tr><th scope=row>55</th><td>20.2720</td><td> 63.00</td><td>0.590</td><td>32707.84</td><td>121.1</td><td>6.300</td><td>6.365</td><td>6.200</td><td>6.500</td><td>6.78</td><td>⋯</td><td>55</td><td>387</td><td>37800</td><td>35536.08</td><td>43636.36</td><td>35536.08</td><td>41217.83</td><td>42222.40</td><td>35388.29</td><td>35493.58</td></tr>\n",
       "\t<tr><th scope=row>59</th><td>23.0890</td><td> 65.26</td><td>0.547</td><td>34135.47</td><td>102.7</td><td>6.010</td><td>6.115</td><td>5.965</td><td>6.280</td><td>7.06</td><td>⋯</td><td>22</td><td>438</td><td>46600</td><td>43983.21</td><td>44266.67</td><td>43983.21</td><td>46775.76</td><td>44859.52</td><td>48668.95</td><td>39920.21</td></tr>\n",
       "\t<tr><th scope=row>61</th><td>22.9864</td><td> 65.26</td><td>0.547</td><td>31891.26</td><td>139.7</td><td>6.335</td><td>6.420</td><td>6.235</td><td>6.560</td><td>7.06</td><td>⋯</td><td>30</td><td>439</td><td>37400</td><td>43983.21</td><td>37400.00</td><td>43983.21</td><td>38063.34</td><td>39619.74</td><td>36063.06</td><td>34330.58</td></tr>\n",
       "\t<tr><th scope=row>62</th><td>23.4342</td><td> 65.26</td><td>0.547</td><td>33141.13</td><td>166.9</td><td>6.580</td><td>6.665</td><td>6.460</td><td>6.655</td><td>7.06</td><td>⋯</td><td>48</td><td>387</td><td>32000</td><td>35536.08</td><td>34544.44</td><td>35536.08</td><td>37648.11</td><td>38620.72</td><td>33491.91</td><td>33581.71</td></tr>\n",
       "\t<tr><th scope=row>73</th><td>21.8328</td><td> 76.62</td><td>0.587</td><td>33691.07</td><td> 81.3</td><td>7.270</td><td>7.520</td><td>7.195</td><td>7.440</td><td>7.16</td><td>⋯</td><td>20</td><td>361</td><td>45600</td><td>43983.21</td><td>44266.67</td><td>43983.21</td><td>44367.84</td><td>45746.84</td><td>45956.15</td><td>45350.83</td></tr>\n",
       "\t<tr><th scope=row>77</th><td>22.0306</td><td> 80.66</td><td>0.563</td><td>34879.85</td><td>148.0</td><td>7.835</td><td>8.140</td><td>7.870</td><td>8.050</td><td>8.26</td><td>⋯</td><td>22</td><td>453</td><td>40000</td><td>43983.21</td><td>45563.64</td><td>43983.21</td><td>45462.48</td><td>45361.46</td><td>45849.64</td><td>46545.84</td></tr>\n",
       "\t<tr><th scope=row>79</th><td>21.1292</td><td> 80.66</td><td>0.563</td><td>34618.76</td><td>127.2</td><td>7.330</td><td>7.500</td><td>7.450</td><td>7.690</td><td>8.26</td><td>⋯</td><td>53</td><td>377</td><td>42400</td><td>43983.21</td><td>44266.67</td><td>43983.21</td><td>44499.12</td><td>44761.13</td><td>39520.04</td><td>47011.48</td></tr>\n",
       "\t<tr><th scope=row>80</th><td>21.6774</td><td> 80.66</td><td>0.563</td><td>32630.07</td><td>110.1</td><td>7.735</td><td>7.885</td><td>7.590</td><td>7.785</td><td>8.26</td><td>⋯</td><td>37</td><td>472</td><td>40600</td><td>43983.21</td><td>41369.23</td><td>43983.21</td><td>41798.77</td><td>42935.16</td><td>44978.92</td><td>43198.54</td></tr>\n",
       "\t<tr><th scope=row>91</th><td>20.9368</td><td> 61.82</td><td>0.511</td><td>35646.43</td><td>139.6</td><td>8.430</td><td>8.535</td><td>8.425</td><td>8.425</td><td>8.44</td><td>⋯</td><td>58</td><td>424</td><td>45200</td><td>43983.21</td><td>51800.00</td><td>43983.21</td><td>50257.29</td><td>53158.74</td><td>53847.39</td><td>56539.60</td></tr>\n",
       "\t<tr><th scope=row>95</th><td>20.8588</td><td> 85.08</td><td>0.536</td><td>34713.19</td><td>150.8</td><td>8.095</td><td>8.330</td><td>8.040</td><td>8.305</td><td>8.36</td><td>⋯</td><td>54</td><td>465</td><td>41200</td><td>43983.21</td><td>51800.00</td><td>43983.21</td><td>45384.66</td><td>45737.29</td><td>38214.14</td><td>45584.59</td></tr>\n",
       "\t<tr><th scope=row>97</th><td>22.3008</td><td> 60.78</td><td>0.555</td><td>34235.46</td><td>143.1</td><td>8.210</td><td>8.325</td><td>8.230</td><td>8.245</td><td>8.40</td><td>⋯</td><td>21</td><td>463</td><td>42800</td><td>43983.21</td><td>51800.00</td><td>43983.21</td><td>49982.99</td><td>51413.91</td><td>51551.51</td><td>49584.88</td></tr>\n",
       "\t<tr><th scope=row>98</th><td>22.4166</td><td> 60.78</td><td>0.555</td><td>44823.29</td><td>149.5</td><td>8.150</td><td>8.340</td><td>8.215</td><td>8.305</td><td>7.40</td><td>⋯</td><td>53</td><td>413</td><td>77400</td><td>92019.05</td><td>95871.43</td><td>92019.05</td><td>84856.00</td><td>80922.45</td><td>84535.52</td><td>70915.34</td></tr>\n",
       "\t<tr><th scope=row>109</th><td>22.5604</td><td> 72.12</td><td>0.480</td><td>35963.07</td><td>170.6</td><td>8.640</td><td>8.910</td><td>8.730</td><td>8.850</td><td>7.82</td><td>⋯</td><td>48</td><td>502</td><td>39600</td><td>43983.21</td><td>40984.62</td><td>43983.21</td><td>46086.75</td><td>43956.09</td><td>43883.97</td><td>48397.76</td></tr>\n",
       "\t<tr><th scope=row>113</th><td>22.4658</td><td> 75.02</td><td>0.453</td><td>32846.71</td><td>166.4</td><td>8.725</td><td>8.885</td><td>8.720</td><td>8.965</td><td>7.44</td><td>⋯</td><td>35</td><td>577</td><td>37600</td><td>35536.08</td><td>37733.33</td><td>35536.08</td><td>38357.43</td><td>37898.46</td><td>31428.67</td><td>36309.04</td></tr>\n",
       "\t<tr><th scope=row>115</th><td>22.8462</td><td> 75.02</td><td>0.453</td><td>34740.97</td><td>157.7</td><td>8.730</td><td>8.930</td><td>8.855</td><td>8.975</td><td>8.44</td><td>⋯</td><td>39</td><td>570</td><td>37000</td><td>43983.21</td><td>44940.00</td><td>43983.21</td><td>41150.74</td><td>40630.23</td><td>35739.50</td><td>45935.31</td></tr>\n",
       "\t<tr><th scope=row>116</th><td>23.4268</td><td> 75.02</td><td>0.453</td><td>32930.04</td><td>161.7</td><td>8.720</td><td>8.795</td><td>8.640</td><td>8.920</td><td>7.44</td><td>⋯</td><td>24</td><td>539</td><td>36600</td><td>35536.08</td><td>33415.38</td><td>35536.08</td><td>38966.53</td><td>39129.39</td><td>39250.88</td><td>37437.00</td></tr>\n",
       "\t<tr><th scope=row>127</th><td>27.7470</td><td>106.30</td><td>0.419</td><td>31180.22</td><td>169.1</td><td>9.035</td><td>9.240</td><td>9.100</td><td>9.115</td><td>8.18</td><td>⋯</td><td>42</td><td>635</td><td>31400</td><td>35536.08</td><td>27020.00</td><td>35536.08</td><td>30291.09</td><td>30620.80</td><td>23468.46</td><td>26313.48</td></tr>\n",
       "\t<tr><th scope=row>131</th><td>26.8012</td><td> 98.78</td><td>0.376</td><td>35874.19</td><td>172.4</td><td>8.815</td><td>9.035</td><td>8.820</td><td>9.095</td><td>6.76</td><td>⋯</td><td>25</td><td>663</td><td>38400</td><td>43983.21</td><td>40984.62</td><td>43983.21</td><td>43913.35</td><td>42308.02</td><td>46304.46</td><td>41003.41</td></tr>\n",
       "\t<tr><th scope=row>⋮</th><td>⋮</td><td>⋮</td><td>⋮</td><td>⋮</td><td>⋮</td><td>⋮</td><td>⋮</td><td>⋮</td><td>⋮</td><td>⋮</td><td>⋱</td><td>⋮</td><td>⋮</td><td>⋮</td><td>⋮</td><td>⋮</td><td>⋮</td><td>⋮</td><td>⋮</td><td>⋮</td><td>⋮</td></tr>\n",
       "\t<tr><th scope=row>368</th><td> 290.4440</td><td> 91.20</td><td>0.369</td><td>21458.97</td><td>173.5</td><td>9.235</td><td>9.305</td><td>9.230</td><td>9.215</td><td>7.96</td><td>⋯</td><td>24</td><td>559</td><td>46200</td><td>77000.00</td><td>77000.00</td><td>77000.00</td><td>65576.91</td><td>52510.64</td><td>72389.66</td><td>17360.632</td></tr>\n",
       "\t<tr><th scope=row>379</th><td> 492.9640</td><td> 91.20</td><td>0.329</td><td>35440.90</td><td>169.7</td><td>9.240</td><td>9.390</td><td>9.235</td><td>9.365</td><td>6.96</td><td>⋯</td><td>54</td><td>632</td><td>26200</td><td>24955.17</td><td>21811.11</td><td>24955.17</td><td>22281.22</td><td>21758.95</td><td>14370.96</td><td>30937.264</td></tr>\n",
       "\t<tr><th scope=row>383</th><td> 203.7404</td><td> 91.20</td><td>0.300</td><td>30752.48</td><td>173.5</td><td>9.050</td><td>9.225</td><td>9.140</td><td>9.430</td><td>7.96</td><td>⋯</td><td>46</td><td>607</td><td>22600</td><td>24955.17</td><td>21811.11</td><td>24955.17</td><td>21149.71</td><td>21674.35</td><td>30091.69</td><td>28392.888</td></tr>\n",
       "\t<tr><th scope=row>385</th><td> 421.6980</td><td> 91.20</td><td>0.300</td><td>24264.24</td><td>164.7</td><td>9.250</td><td>9.330</td><td>9.260</td><td>9.280</td><td>7.96</td><td>⋯</td><td>25</td><td>626</td><td>17600</td><td>24955.17</td><td>16646.15</td><td>24955.17</td><td>18111.92</td><td>20730.87</td><td>23466.82</td><td> 6617.788</td></tr>\n",
       "\t<tr><th scope=row>386</th><td> 356.2360</td><td> 91.20</td><td>0.300</td><td>29313.74</td><td>171.6</td><td>9.270</td><td>9.385</td><td>9.190</td><td>9.300</td><td>6.96</td><td>⋯</td><td>36</td><td>600</td><td>14400</td><td>24955.17</td><td>16646.15</td><td>24955.17</td><td>17603.51</td><td>21526.25</td><td>25152.81</td><td>13385.250</td></tr>\n",
       "\t<tr><th scope=row>397</th><td> 137.4410</td><td> 91.20</td><td>0.307</td><td>35579.78</td><td>169.5</td><td>9.115</td><td>9.180</td><td>9.100</td><td>9.255</td><td>6.96</td><td>⋯</td><td>24</td><td>685</td><td>25000</td><td>35536.08</td><td>27020.00</td><td>35536.08</td><td>28680.67</td><td>27744.29</td><td>18582.10</td><td>35154.906</td></tr>\n",
       "\t<tr><th scope=row>401</th><td> 520.9220</td><td> 91.20</td><td>0.307</td><td>33257.79</td><td>173.5</td><td>9.135</td><td>9.310</td><td>9.040</td><td>9.335</td><td>7.96</td><td>⋯</td><td>30</td><td>618</td><td>11200</td><td>24955.17</td><td>16646.15</td><td>24955.17</td><td>16891.51</td><td>17384.79</td><td>13815.56</td><td>25360.823</td></tr>\n",
       "\t<tr><th scope=row>403</th><td> 211.9142</td><td> 91.20</td><td>0.307</td><td>35574.22</td><td>173.5</td><td>9.170</td><td>9.320</td><td>9.115</td><td>9.120</td><td>7.96</td><td>⋯</td><td>42</td><td>689</td><td>24200</td><td>24955.17</td><td>21811.11</td><td>24955.17</td><td>22173.48</td><td>21699.46</td><td>15660.17</td><td>33829.026</td></tr>\n",
       "\t<tr><th scope=row>404</th><td> 516.0340</td><td> 91.20</td><td>0.307</td><td>29713.69</td><td>169.5</td><td>9.125</td><td>9.310</td><td>9.060</td><td>9.100</td><td>6.96</td><td>⋯</td><td>40</td><td>677</td><td>16600</td><td>24955.17</td><td>21811.11</td><td>24955.17</td><td>21430.49</td><td>21299.90</td><td>17135.65</td><td>20534.160</td></tr>\n",
       "\t<tr><th scope=row>415</th><td> 934.9220</td><td> 91.20</td><td>0.307</td><td>25103.04</td><td>173.5</td><td>9.130</td><td>9.250</td><td>9.050</td><td>9.255</td><td>7.96</td><td>⋯</td><td>40</td><td>693</td><td>14000</td><td>24955.17</td><td>16646.15</td><td>24955.17</td><td>17275.25</td><td>19216.93</td><td>16935.50</td><td>-1111.475</td></tr>\n",
       "\t<tr><th scope=row>419</th><td>1490.6820</td><td> 91.20</td><td>0.321</td><td>33091.14</td><td>173.5</td><td>9.020</td><td>9.155</td><td>9.075</td><td>9.150</td><td>7.96</td><td>⋯</td><td>52</td><td>680</td><td>17600</td><td>24955.17</td><td>21811.11</td><td>24955.17</td><td>18909.37</td><td>19297.89</td><td>18466.80</td><td>15238.010</td></tr>\n",
       "\t<tr><th scope=row>421</th><td> 241.7480</td><td> 91.20</td><td>0.282</td><td>35613.11</td><td>173.5</td><td>9.035</td><td>9.095</td><td>9.060</td><td>9.095</td><td>6.96</td><td>⋯</td><td>48</td><td>649</td><td>33400</td><td>24955.17</td><td>21811.11</td><td>24955.17</td><td>25932.77</td><td>25787.00</td><td>23977.41</td><td>35820.293</td></tr>\n",
       "\t<tr><th scope=row>422</th><td> 160.4518</td><td> 91.20</td><td>0.282</td><td>33363.33</td><td>168.8</td><td>9.010</td><td>9.215</td><td>9.060</td><td>8.965</td><td>7.96</td><td>⋯</td><td>29</td><td>756</td><td>28400</td><td>24955.17</td><td>21811.11</td><td>24955.17</td><td>30352.66</td><td>29860.97</td><td>30200.62</td><td>34765.013</td></tr>\n",
       "\t<tr><th scope=row>433</th><td> 148.8810</td><td> 91.20</td><td>0.416</td><td>35690.88</td><td>148.3</td><td>8.800</td><td>9.040</td><td>8.830</td><td>8.930</td><td>7.96</td><td>⋯</td><td>42</td><td>538</td><td>32200</td><td>43983.21</td><td>44940.00</td><td>43983.21</td><td>43563.04</td><td>42276.30</td><td>42627.60</td><td>45801.510</td></tr>\n",
       "\t<tr><th scope=row>437</th><td> 308.4160</td><td> 91.20</td><td>0.260</td><td>35890.86</td><td>166.8</td><td>8.840</td><td>9.090</td><td>8.945</td><td>9.125</td><td>6.96</td><td>⋯</td><td>57</td><td>702</td><td>19200</td><td>24955.17</td><td>21811.11</td><td>24955.17</td><td>23775.31</td><td>25837.88</td><td>24935.20</td><td>34076.686</td></tr>\n",
       "\t<tr><th scope=row>439</th><td> 293.5620</td><td> 91.20</td><td>0.260</td><td>32968.93</td><td>161.4</td><td>9.075</td><td>9.195</td><td>9.065</td><td>9.025</td><td>6.96</td><td>⋯</td><td>57</td><td>712</td><td>16800</td><td>24955.17</td><td>16646.15</td><td>24955.17</td><td>19526.99</td><td>20644.05</td><td>23515.91</td><td>20950.122</td></tr>\n",
       "\t<tr><th scope=row>440</th><td> 207.8126</td><td> 91.20</td><td>0.260</td><td>31257.99</td><td>167.4</td><td>9.065</td><td>9.140</td><td>8.995</td><td>9.165</td><td>6.96</td><td>⋯</td><td>50</td><td>731</td><td>25600</td><td>24955.17</td><td>16646.15</td><td>24955.17</td><td>23987.95</td><td>23684.67</td><td>26613.33</td><td>23175.507</td></tr>\n",
       "\t<tr><th scope=row>451</th><td> 154.3544</td><td> 91.20</td><td>0.287</td><td>37490.69</td><td>166.1</td><td>8.800</td><td>8.945</td><td>8.815</td><td>8.800</td><td>7.96</td><td>⋯</td><td>59</td><td>614</td><td>26800</td><td>35536.08</td><td>37733.33</td><td>35536.08</td><td>31825.25</td><td>33747.23</td><td>31006.63</td><td>42687.281</td></tr>\n",
       "\t<tr><th scope=row>455</th><td> 210.2726</td><td> 91.20</td><td>0.287</td><td>37374.04</td><td>167.6</td><td>8.750</td><td>8.900</td><td>8.625</td><td>8.730</td><td>6.96</td><td>⋯</td><td>34</td><td>661</td><td>28800</td><td>24955.17</td><td>29020.00</td><td>24955.17</td><td>30758.09</td><td>31222.06</td><td>31461.38</td><td>35322.665</td></tr>\n",
       "\t<tr><th scope=row>457</th><td> 113.3766</td><td> 91.20</td><td>0.287</td><td>33196.68</td><td>161.4</td><td>8.675</td><td>8.850</td><td>8.610</td><td>8.705</td><td>6.96</td><td>⋯</td><td>31</td><td>638</td><td>25400</td><td>35536.08</td><td>33415.38</td><td>35536.08</td><td>31627.75</td><td>33544.37</td><td>35780.63</td><td>27736.309</td></tr>\n",
       "\t<tr><th scope=row>458</th><td> 184.0116</td><td> 91.20</td><td>0.287</td><td>32974.48</td><td>153.8</td><td>8.570</td><td>8.755</td><td>8.595</td><td>8.520</td><td>7.96</td><td>⋯</td><td>46</td><td>749</td><td>27000</td><td>24955.17</td><td>29020.00</td><td>24955.17</td><td>33055.65</td><td>35116.41</td><td>30041.15</td><td>31644.452</td></tr>\n",
       "\t<tr><th scope=row>469</th><td> 331.5140</td><td> 91.20</td><td>0.420</td><td>32918.93</td><td>144.5</td><td>8.520</td><td>8.550</td><td>8.440</td><td>8.670</td><td>6.96</td><td>⋯</td><td>28</td><td>494</td><td>38200</td><td>24955.17</td><td>32247.06</td><td>24955.17</td><td>33484.31</td><td>35919.13</td><td>32442.89</td><td>27676.683</td></tr>\n",
       "\t<tr><th scope=row>473</th><td>  91.3736</td><td> 91.20</td><td>0.420</td><td>35757.54</td><td>148.5</td><td>8.480</td><td>8.685</td><td>8.495</td><td>8.550</td><td>7.96</td><td>⋯</td><td>39</td><td>635</td><td>46400</td><td>35536.08</td><td>37733.33</td><td>35536.08</td><td>37897.25</td><td>39058.35</td><td>35721.24</td><td>42519.592</td></tr>\n",
       "\t<tr><th scope=row>475</th><td> 181.1158</td><td> 91.20</td><td>0.416</td><td>30146.99</td><td>168.9</td><td>8.695</td><td>8.835</td><td>8.720</td><td>8.895</td><td>7.96</td><td>⋯</td><td>47</td><td>498</td><td>27600</td><td>24955.17</td><td>32247.06</td><td>24955.17</td><td>32685.49</td><td>34124.01</td><td>34977.05</td><td>30109.947</td></tr>\n",
       "\t<tr><th scope=row>476</th><td> 147.8624</td><td> 91.20</td><td>0.416</td><td>34229.91</td><td>170.9</td><td>8.750</td><td>8.915</td><td>8.750</td><td>9.175</td><td>7.96</td><td>⋯</td><td>27</td><td>631</td><td>26600</td><td>35536.08</td><td>31250.00</td><td>35536.08</td><td>30923.57</td><td>32008.75</td><td>26977.86</td><td>34903.903</td></tr>\n",
       "\t<tr><th scope=row>487</th><td> 133.8350</td><td> 91.20</td><td>0.417</td><td>33963.27</td><td>153.3</td><td>8.225</td><td>8.330</td><td>8.120</td><td>8.235</td><td>6.96</td><td>⋯</td><td>57</td><td>596</td><td>38200</td><td>35536.08</td><td>37733.33</td><td>35536.08</td><td>38407.27</td><td>39334.89</td><td>38507.00</td><td>35998.661</td></tr>\n",
       "\t<tr><th scope=row>491</th><td>  24.1492</td><td>110.48</td><td>0.391</td><td>28291.62</td><td>171.5</td><td>9.015</td><td>9.200</td><td>9.025</td><td>9.115</td><td>7.98</td><td>⋯</td><td>49</td><td>628</td><td>16200</td><td>35536.08</td><td>27020.00</td><td>35536.08</td><td>25827.09</td><td>27211.83</td><td>22706.26</td><td>19914.695</td></tr>\n",
       "\t<tr><th scope=row>493</th><td>  22.2264</td><td>110.48</td><td>0.391</td><td>33235.57</td><td>157.0</td><td>8.875</td><td>9.090</td><td>8.940</td><td>8.880</td><td>6.98</td><td>⋯</td><td>57</td><td>623</td><td>40200</td><td>35536.08</td><td>37733.33</td><td>35536.08</td><td>37906.03</td><td>36792.94</td><td>39996.11</td><td>35761.215</td></tr>\n",
       "\t<tr><th scope=row>494</th><td>  23.4662</td><td> 74.38</td><td>0.415</td><td>31702.38</td><td>127.5</td><td>8.650</td><td>8.865</td><td>8.790</td><td>8.930</td><td>8.16</td><td>⋯</td><td>31</td><td>581</td><td>43600</td><td>35536.08</td><td>43636.36</td><td>35536.08</td><td>41082.85</td><td>41554.03</td><td>38801.52</td><td>42355.467</td></tr>\n",
       "\t<tr><th scope=row>505</th><td>  22.1918</td><td> 78.86</td><td>0.427</td><td>37740.67</td><td>162.8</td><td>8.730</td><td>8.845</td><td>8.800</td><td>8.845</td><td>6.80</td><td>⋯</td><td>47</td><td>607</td><td>44000</td><td>54016.67</td><td>53563.64</td><td>54016.67</td><td>51044.61</td><td>50574.31</td><td>53470.05</td><td>50033.897</td></tr>\n",
       "</tbody>\n",
       "</table>\n"
      ],
      "text/latex": [
       "A data.frame: 113 × 25\n",
       "\\begin{tabular}{r|lllllllllllllllllllll}\n",
       "  & Marketing.expense & Production.expense & Multiplex.coverage & Budget & Movie\\_length & Lead\\_.Actor\\_Rating & Lead\\_Actress\\_rating & Director\\_rating & Producer\\_rating & Critic\\_rating & ⋯ & Avg\\_age\\_actors & Num\\_multiplex & Collection & regtree & fulltree & pruned & bagging & randomforest & gradient & svm\\\\\n",
       "  & <dbl> & <dbl> & <dbl> & <dbl> & <dbl> & <dbl> & <dbl> & <dbl> & <dbl> & <dbl> & ⋯ & <int> & <int> & <int> & <dbl> & <dbl> & <dbl> & <dbl> & <dbl> & <dbl> & <dbl>\\\\\n",
       "\\hline\n",
       "\t1 & 20.1264 &  59.62 & 0.462 & 36524.12 & 138.7 & 7.825 & 8.095 & 7.910 & 7.995 & 7.94 & ⋯ & 23 & 494 & 48000 & 54016.67 & 59953.85 & 54016.67 & 53936.22 & 55897.48 & 50613.78 & 54581.61\\\\\n",
       "\t5 & 21.3810 &  59.36 & 0.542 & 39701.58 & 127.7 & 6.920 & 7.070 & 6.815 & 7.070 & 8.26 & ⋯ & 55 & 395 & 72400 & 65961.11 & 72757.14 & 65961.11 & 70762.30 & 68534.57 & 72319.41 & 59983.30\\\\\n",
       "\t7 & 21.7658 &  70.74 & 0.476 & 33396.66 & 140.1 & 7.065 & 7.265 & 7.150 & 7.400 & 8.96 & ⋯ & 41 & 522 & 45800 & 43983.21 & 41369.23 & 43983.21 & 39609.41 & 40542.90 & 41556.93 & 44810.35\\\\\n",
       "\t8 & 22.8910 &  70.74 & 0.476 & 34285.46 & 169.6 & 6.980 & 7.075 & 6.875 & 7.170 & 7.96 & ⋯ & 56 & 571 & 44200 & 35536.08 & 34544.44 & 35536.08 & 36053.79 & 35743.15 & 36756.71 & 35588.30\\\\\n",
       "\t19 & 36.0542 &  71.28 & 0.462 & 30308.08 & 110.1 & 8.100 & 8.240 & 8.070 & 8.000 & 6.80 & ⋯ & 41 & 543 & 40400 & 43983.21 & 37400.00 & 43983.21 & 39103.39 & 39836.95 & 40141.98 & 36061.35\\\\\n",
       "\t23 & 44.6494 &  71.28 & 0.462 & 34118.81 & 165.2 & 7.910 & 8.010 & 7.845 & 8.275 & 6.80 & ⋯ & 48 & 575 & 30400 & 35536.08 & 37733.33 & 35536.08 & 32060.67 & 32735.63 & 32004.69 & 35238.18\\\\\n",
       "\t25 & 35.0052 &  71.28 & 0.462 & 32907.82 & 167.6 & 7.655 & 7.965 & 7.640 & 7.940 & 7.80 & ⋯ & 27 & 502 & 31200 & 35536.08 & 34544.44 & 35536.08 & 32592.57 & 34006.13 & 33140.29 & 37654.17\\\\\n",
       "\t26 & 36.8108 &  71.28 & 0.462 & 31102.44 & 159.2 & 7.655 & 7.835 & 7.640 & 7.960 & 7.80 & ⋯ & 35 & 516 & 27800 & 35536.08 & 37733.33 & 35536.08 & 34331.47 & 34776.65 & 31660.26 & 35619.94\\\\\n",
       "\t37 & 21.9488 &  66.92 & 0.501 & 32446.76 & 134.9 & 8.305 & 8.360 & 8.190 & 8.390 & 8.16 & ⋯ & 39 & 454 & 40000 & 43983.21 & 45360.00 & 43983.21 & 42321.79 & 44576.90 & 47711.34 & 44859.65\\\\\n",
       "\t41 & 20.6718 &  60.90 & 0.572 & 39018.32 &  89.3 & 7.185 & 7.345 & 7.235 & 7.430 & 8.34 & ⋯ & 20 & 428 & 69800 & 65961.11 & 57472.73 & 65961.11 & 63809.35 & 66252.67 & 67118.87 & 65115.32\\\\\n",
       "\t43 & 22.8300 &  68.82 & 0.552 & 34268.79 &  80.1 & 7.035 & 7.270 & 7.060 & 7.190 & 7.42 & ⋯ & 52 & 419 & 50600 & 43983.21 & 44266.67 & 43983.21 & 48036.90 & 49338.78 & 49061.96 & 49523.10\\\\\n",
       "\t44 & 23.1872 &  68.82 & 0.552 & 34502.11 &  80.0 & 6.980 & 7.170 & 7.080 & 7.330 & 8.42 & ⋯ & 56 & 449 & 49400 & 43983.21 & 44266.67 & 43983.21 & 47103.16 & 46335.75 & 50079.96 & 50847.55\\\\\n",
       "\t55 & 20.2720 &  63.00 & 0.590 & 32707.84 & 121.1 & 6.300 & 6.365 & 6.200 & 6.500 & 6.78 & ⋯ & 55 & 387 & 37800 & 35536.08 & 43636.36 & 35536.08 & 41217.83 & 42222.40 & 35388.29 & 35493.58\\\\\n",
       "\t59 & 23.0890 &  65.26 & 0.547 & 34135.47 & 102.7 & 6.010 & 6.115 & 5.965 & 6.280 & 7.06 & ⋯ & 22 & 438 & 46600 & 43983.21 & 44266.67 & 43983.21 & 46775.76 & 44859.52 & 48668.95 & 39920.21\\\\\n",
       "\t61 & 22.9864 &  65.26 & 0.547 & 31891.26 & 139.7 & 6.335 & 6.420 & 6.235 & 6.560 & 7.06 & ⋯ & 30 & 439 & 37400 & 43983.21 & 37400.00 & 43983.21 & 38063.34 & 39619.74 & 36063.06 & 34330.58\\\\\n",
       "\t62 & 23.4342 &  65.26 & 0.547 & 33141.13 & 166.9 & 6.580 & 6.665 & 6.460 & 6.655 & 7.06 & ⋯ & 48 & 387 & 32000 & 35536.08 & 34544.44 & 35536.08 & 37648.11 & 38620.72 & 33491.91 & 33581.71\\\\\n",
       "\t73 & 21.8328 &  76.62 & 0.587 & 33691.07 &  81.3 & 7.270 & 7.520 & 7.195 & 7.440 & 7.16 & ⋯ & 20 & 361 & 45600 & 43983.21 & 44266.67 & 43983.21 & 44367.84 & 45746.84 & 45956.15 & 45350.83\\\\\n",
       "\t77 & 22.0306 &  80.66 & 0.563 & 34879.85 & 148.0 & 7.835 & 8.140 & 7.870 & 8.050 & 8.26 & ⋯ & 22 & 453 & 40000 & 43983.21 & 45563.64 & 43983.21 & 45462.48 & 45361.46 & 45849.64 & 46545.84\\\\\n",
       "\t79 & 21.1292 &  80.66 & 0.563 & 34618.76 & 127.2 & 7.330 & 7.500 & 7.450 & 7.690 & 8.26 & ⋯ & 53 & 377 & 42400 & 43983.21 & 44266.67 & 43983.21 & 44499.12 & 44761.13 & 39520.04 & 47011.48\\\\\n",
       "\t80 & 21.6774 &  80.66 & 0.563 & 32630.07 & 110.1 & 7.735 & 7.885 & 7.590 & 7.785 & 8.26 & ⋯ & 37 & 472 & 40600 & 43983.21 & 41369.23 & 43983.21 & 41798.77 & 42935.16 & 44978.92 & 43198.54\\\\\n",
       "\t91 & 20.9368 &  61.82 & 0.511 & 35646.43 & 139.6 & 8.430 & 8.535 & 8.425 & 8.425 & 8.44 & ⋯ & 58 & 424 & 45200 & 43983.21 & 51800.00 & 43983.21 & 50257.29 & 53158.74 & 53847.39 & 56539.60\\\\\n",
       "\t95 & 20.8588 &  85.08 & 0.536 & 34713.19 & 150.8 & 8.095 & 8.330 & 8.040 & 8.305 & 8.36 & ⋯ & 54 & 465 & 41200 & 43983.21 & 51800.00 & 43983.21 & 45384.66 & 45737.29 & 38214.14 & 45584.59\\\\\n",
       "\t97 & 22.3008 &  60.78 & 0.555 & 34235.46 & 143.1 & 8.210 & 8.325 & 8.230 & 8.245 & 8.40 & ⋯ & 21 & 463 & 42800 & 43983.21 & 51800.00 & 43983.21 & 49982.99 & 51413.91 & 51551.51 & 49584.88\\\\\n",
       "\t98 & 22.4166 &  60.78 & 0.555 & 44823.29 & 149.5 & 8.150 & 8.340 & 8.215 & 8.305 & 7.40 & ⋯ & 53 & 413 & 77400 & 92019.05 & 95871.43 & 92019.05 & 84856.00 & 80922.45 & 84535.52 & 70915.34\\\\\n",
       "\t109 & 22.5604 &  72.12 & 0.480 & 35963.07 & 170.6 & 8.640 & 8.910 & 8.730 & 8.850 & 7.82 & ⋯ & 48 & 502 & 39600 & 43983.21 & 40984.62 & 43983.21 & 46086.75 & 43956.09 & 43883.97 & 48397.76\\\\\n",
       "\t113 & 22.4658 &  75.02 & 0.453 & 32846.71 & 166.4 & 8.725 & 8.885 & 8.720 & 8.965 & 7.44 & ⋯ & 35 & 577 & 37600 & 35536.08 & 37733.33 & 35536.08 & 38357.43 & 37898.46 & 31428.67 & 36309.04\\\\\n",
       "\t115 & 22.8462 &  75.02 & 0.453 & 34740.97 & 157.7 & 8.730 & 8.930 & 8.855 & 8.975 & 8.44 & ⋯ & 39 & 570 & 37000 & 43983.21 & 44940.00 & 43983.21 & 41150.74 & 40630.23 & 35739.50 & 45935.31\\\\\n",
       "\t116 & 23.4268 &  75.02 & 0.453 & 32930.04 & 161.7 & 8.720 & 8.795 & 8.640 & 8.920 & 7.44 & ⋯ & 24 & 539 & 36600 & 35536.08 & 33415.38 & 35536.08 & 38966.53 & 39129.39 & 39250.88 & 37437.00\\\\\n",
       "\t127 & 27.7470 & 106.30 & 0.419 & 31180.22 & 169.1 & 9.035 & 9.240 & 9.100 & 9.115 & 8.18 & ⋯ & 42 & 635 & 31400 & 35536.08 & 27020.00 & 35536.08 & 30291.09 & 30620.80 & 23468.46 & 26313.48\\\\\n",
       "\t131 & 26.8012 &  98.78 & 0.376 & 35874.19 & 172.4 & 8.815 & 9.035 & 8.820 & 9.095 & 6.76 & ⋯ & 25 & 663 & 38400 & 43983.21 & 40984.62 & 43983.21 & 43913.35 & 42308.02 & 46304.46 & 41003.41\\\\\n",
       "\t⋮ & ⋮ & ⋮ & ⋮ & ⋮ & ⋮ & ⋮ & ⋮ & ⋮ & ⋮ & ⋮ & ⋱ & ⋮ & ⋮ & ⋮ & ⋮ & ⋮ & ⋮ & ⋮ & ⋮ & ⋮ & ⋮\\\\\n",
       "\t368 &  290.4440 &  91.20 & 0.369 & 21458.97 & 173.5 & 9.235 & 9.305 & 9.230 & 9.215 & 7.96 & ⋯ & 24 & 559 & 46200 & 77000.00 & 77000.00 & 77000.00 & 65576.91 & 52510.64 & 72389.66 & 17360.632\\\\\n",
       "\t379 &  492.9640 &  91.20 & 0.329 & 35440.90 & 169.7 & 9.240 & 9.390 & 9.235 & 9.365 & 6.96 & ⋯ & 54 & 632 & 26200 & 24955.17 & 21811.11 & 24955.17 & 22281.22 & 21758.95 & 14370.96 & 30937.264\\\\\n",
       "\t383 &  203.7404 &  91.20 & 0.300 & 30752.48 & 173.5 & 9.050 & 9.225 & 9.140 & 9.430 & 7.96 & ⋯ & 46 & 607 & 22600 & 24955.17 & 21811.11 & 24955.17 & 21149.71 & 21674.35 & 30091.69 & 28392.888\\\\\n",
       "\t385 &  421.6980 &  91.20 & 0.300 & 24264.24 & 164.7 & 9.250 & 9.330 & 9.260 & 9.280 & 7.96 & ⋯ & 25 & 626 & 17600 & 24955.17 & 16646.15 & 24955.17 & 18111.92 & 20730.87 & 23466.82 &  6617.788\\\\\n",
       "\t386 &  356.2360 &  91.20 & 0.300 & 29313.74 & 171.6 & 9.270 & 9.385 & 9.190 & 9.300 & 6.96 & ⋯ & 36 & 600 & 14400 & 24955.17 & 16646.15 & 24955.17 & 17603.51 & 21526.25 & 25152.81 & 13385.250\\\\\n",
       "\t397 &  137.4410 &  91.20 & 0.307 & 35579.78 & 169.5 & 9.115 & 9.180 & 9.100 & 9.255 & 6.96 & ⋯ & 24 & 685 & 25000 & 35536.08 & 27020.00 & 35536.08 & 28680.67 & 27744.29 & 18582.10 & 35154.906\\\\\n",
       "\t401 &  520.9220 &  91.20 & 0.307 & 33257.79 & 173.5 & 9.135 & 9.310 & 9.040 & 9.335 & 7.96 & ⋯ & 30 & 618 & 11200 & 24955.17 & 16646.15 & 24955.17 & 16891.51 & 17384.79 & 13815.56 & 25360.823\\\\\n",
       "\t403 &  211.9142 &  91.20 & 0.307 & 35574.22 & 173.5 & 9.170 & 9.320 & 9.115 & 9.120 & 7.96 & ⋯ & 42 & 689 & 24200 & 24955.17 & 21811.11 & 24955.17 & 22173.48 & 21699.46 & 15660.17 & 33829.026\\\\\n",
       "\t404 &  516.0340 &  91.20 & 0.307 & 29713.69 & 169.5 & 9.125 & 9.310 & 9.060 & 9.100 & 6.96 & ⋯ & 40 & 677 & 16600 & 24955.17 & 21811.11 & 24955.17 & 21430.49 & 21299.90 & 17135.65 & 20534.160\\\\\n",
       "\t415 &  934.9220 &  91.20 & 0.307 & 25103.04 & 173.5 & 9.130 & 9.250 & 9.050 & 9.255 & 7.96 & ⋯ & 40 & 693 & 14000 & 24955.17 & 16646.15 & 24955.17 & 17275.25 & 19216.93 & 16935.50 & -1111.475\\\\\n",
       "\t419 & 1490.6820 &  91.20 & 0.321 & 33091.14 & 173.5 & 9.020 & 9.155 & 9.075 & 9.150 & 7.96 & ⋯ & 52 & 680 & 17600 & 24955.17 & 21811.11 & 24955.17 & 18909.37 & 19297.89 & 18466.80 & 15238.010\\\\\n",
       "\t421 &  241.7480 &  91.20 & 0.282 & 35613.11 & 173.5 & 9.035 & 9.095 & 9.060 & 9.095 & 6.96 & ⋯ & 48 & 649 & 33400 & 24955.17 & 21811.11 & 24955.17 & 25932.77 & 25787.00 & 23977.41 & 35820.293\\\\\n",
       "\t422 &  160.4518 &  91.20 & 0.282 & 33363.33 & 168.8 & 9.010 & 9.215 & 9.060 & 8.965 & 7.96 & ⋯ & 29 & 756 & 28400 & 24955.17 & 21811.11 & 24955.17 & 30352.66 & 29860.97 & 30200.62 & 34765.013\\\\\n",
       "\t433 &  148.8810 &  91.20 & 0.416 & 35690.88 & 148.3 & 8.800 & 9.040 & 8.830 & 8.930 & 7.96 & ⋯ & 42 & 538 & 32200 & 43983.21 & 44940.00 & 43983.21 & 43563.04 & 42276.30 & 42627.60 & 45801.510\\\\\n",
       "\t437 &  308.4160 &  91.20 & 0.260 & 35890.86 & 166.8 & 8.840 & 9.090 & 8.945 & 9.125 & 6.96 & ⋯ & 57 & 702 & 19200 & 24955.17 & 21811.11 & 24955.17 & 23775.31 & 25837.88 & 24935.20 & 34076.686\\\\\n",
       "\t439 &  293.5620 &  91.20 & 0.260 & 32968.93 & 161.4 & 9.075 & 9.195 & 9.065 & 9.025 & 6.96 & ⋯ & 57 & 712 & 16800 & 24955.17 & 16646.15 & 24955.17 & 19526.99 & 20644.05 & 23515.91 & 20950.122\\\\\n",
       "\t440 &  207.8126 &  91.20 & 0.260 & 31257.99 & 167.4 & 9.065 & 9.140 & 8.995 & 9.165 & 6.96 & ⋯ & 50 & 731 & 25600 & 24955.17 & 16646.15 & 24955.17 & 23987.95 & 23684.67 & 26613.33 & 23175.507\\\\\n",
       "\t451 &  154.3544 &  91.20 & 0.287 & 37490.69 & 166.1 & 8.800 & 8.945 & 8.815 & 8.800 & 7.96 & ⋯ & 59 & 614 & 26800 & 35536.08 & 37733.33 & 35536.08 & 31825.25 & 33747.23 & 31006.63 & 42687.281\\\\\n",
       "\t455 &  210.2726 &  91.20 & 0.287 & 37374.04 & 167.6 & 8.750 & 8.900 & 8.625 & 8.730 & 6.96 & ⋯ & 34 & 661 & 28800 & 24955.17 & 29020.00 & 24955.17 & 30758.09 & 31222.06 & 31461.38 & 35322.665\\\\\n",
       "\t457 &  113.3766 &  91.20 & 0.287 & 33196.68 & 161.4 & 8.675 & 8.850 & 8.610 & 8.705 & 6.96 & ⋯ & 31 & 638 & 25400 & 35536.08 & 33415.38 & 35536.08 & 31627.75 & 33544.37 & 35780.63 & 27736.309\\\\\n",
       "\t458 &  184.0116 &  91.20 & 0.287 & 32974.48 & 153.8 & 8.570 & 8.755 & 8.595 & 8.520 & 7.96 & ⋯ & 46 & 749 & 27000 & 24955.17 & 29020.00 & 24955.17 & 33055.65 & 35116.41 & 30041.15 & 31644.452\\\\\n",
       "\t469 &  331.5140 &  91.20 & 0.420 & 32918.93 & 144.5 & 8.520 & 8.550 & 8.440 & 8.670 & 6.96 & ⋯ & 28 & 494 & 38200 & 24955.17 & 32247.06 & 24955.17 & 33484.31 & 35919.13 & 32442.89 & 27676.683\\\\\n",
       "\t473 &   91.3736 &  91.20 & 0.420 & 35757.54 & 148.5 & 8.480 & 8.685 & 8.495 & 8.550 & 7.96 & ⋯ & 39 & 635 & 46400 & 35536.08 & 37733.33 & 35536.08 & 37897.25 & 39058.35 & 35721.24 & 42519.592\\\\\n",
       "\t475 &  181.1158 &  91.20 & 0.416 & 30146.99 & 168.9 & 8.695 & 8.835 & 8.720 & 8.895 & 7.96 & ⋯ & 47 & 498 & 27600 & 24955.17 & 32247.06 & 24955.17 & 32685.49 & 34124.01 & 34977.05 & 30109.947\\\\\n",
       "\t476 &  147.8624 &  91.20 & 0.416 & 34229.91 & 170.9 & 8.750 & 8.915 & 8.750 & 9.175 & 7.96 & ⋯ & 27 & 631 & 26600 & 35536.08 & 31250.00 & 35536.08 & 30923.57 & 32008.75 & 26977.86 & 34903.903\\\\\n",
       "\t487 &  133.8350 &  91.20 & 0.417 & 33963.27 & 153.3 & 8.225 & 8.330 & 8.120 & 8.235 & 6.96 & ⋯ & 57 & 596 & 38200 & 35536.08 & 37733.33 & 35536.08 & 38407.27 & 39334.89 & 38507.00 & 35998.661\\\\\n",
       "\t491 &   24.1492 & 110.48 & 0.391 & 28291.62 & 171.5 & 9.015 & 9.200 & 9.025 & 9.115 & 7.98 & ⋯ & 49 & 628 & 16200 & 35536.08 & 27020.00 & 35536.08 & 25827.09 & 27211.83 & 22706.26 & 19914.695\\\\\n",
       "\t493 &   22.2264 & 110.48 & 0.391 & 33235.57 & 157.0 & 8.875 & 9.090 & 8.940 & 8.880 & 6.98 & ⋯ & 57 & 623 & 40200 & 35536.08 & 37733.33 & 35536.08 & 37906.03 & 36792.94 & 39996.11 & 35761.215\\\\\n",
       "\t494 &   23.4662 &  74.38 & 0.415 & 31702.38 & 127.5 & 8.650 & 8.865 & 8.790 & 8.930 & 8.16 & ⋯ & 31 & 581 & 43600 & 35536.08 & 43636.36 & 35536.08 & 41082.85 & 41554.03 & 38801.52 & 42355.467\\\\\n",
       "\t505 &   22.1918 &  78.86 & 0.427 & 37740.67 & 162.8 & 8.730 & 8.845 & 8.800 & 8.845 & 6.80 & ⋯ & 47 & 607 & 44000 & 54016.67 & 53563.64 & 54016.67 & 51044.61 & 50574.31 & 53470.05 & 50033.897\\\\\n",
       "\\end{tabular}\n"
      ],
      "text/markdown": [
       "\n",
       "A data.frame: 113 × 25\n",
       "\n",
       "| <!--/--> | Marketing.expense &lt;dbl&gt; | Production.expense &lt;dbl&gt; | Multiplex.coverage &lt;dbl&gt; | Budget &lt;dbl&gt; | Movie_length &lt;dbl&gt; | Lead_.Actor_Rating &lt;dbl&gt; | Lead_Actress_rating &lt;dbl&gt; | Director_rating &lt;dbl&gt; | Producer_rating &lt;dbl&gt; | Critic_rating &lt;dbl&gt; | ⋯ ⋯ | Avg_age_actors &lt;int&gt; | Num_multiplex &lt;int&gt; | Collection &lt;int&gt; | regtree &lt;dbl&gt; | fulltree &lt;dbl&gt; | pruned &lt;dbl&gt; | bagging &lt;dbl&gt; | randomforest &lt;dbl&gt; | gradient &lt;dbl&gt; | svm &lt;dbl&gt; |\n",
       "|---|---|---|---|---|---|---|---|---|---|---|---|---|---|---|---|---|---|---|---|---|---|\n",
       "| 1 | 20.1264 |  59.62 | 0.462 | 36524.12 | 138.7 | 7.825 | 8.095 | 7.910 | 7.995 | 7.94 | ⋯ | 23 | 494 | 48000 | 54016.67 | 59953.85 | 54016.67 | 53936.22 | 55897.48 | 50613.78 | 54581.61 |\n",
       "| 5 | 21.3810 |  59.36 | 0.542 | 39701.58 | 127.7 | 6.920 | 7.070 | 6.815 | 7.070 | 8.26 | ⋯ | 55 | 395 | 72400 | 65961.11 | 72757.14 | 65961.11 | 70762.30 | 68534.57 | 72319.41 | 59983.30 |\n",
       "| 7 | 21.7658 |  70.74 | 0.476 | 33396.66 | 140.1 | 7.065 | 7.265 | 7.150 | 7.400 | 8.96 | ⋯ | 41 | 522 | 45800 | 43983.21 | 41369.23 | 43983.21 | 39609.41 | 40542.90 | 41556.93 | 44810.35 |\n",
       "| 8 | 22.8910 |  70.74 | 0.476 | 34285.46 | 169.6 | 6.980 | 7.075 | 6.875 | 7.170 | 7.96 | ⋯ | 56 | 571 | 44200 | 35536.08 | 34544.44 | 35536.08 | 36053.79 | 35743.15 | 36756.71 | 35588.30 |\n",
       "| 19 | 36.0542 |  71.28 | 0.462 | 30308.08 | 110.1 | 8.100 | 8.240 | 8.070 | 8.000 | 6.80 | ⋯ | 41 | 543 | 40400 | 43983.21 | 37400.00 | 43983.21 | 39103.39 | 39836.95 | 40141.98 | 36061.35 |\n",
       "| 23 | 44.6494 |  71.28 | 0.462 | 34118.81 | 165.2 | 7.910 | 8.010 | 7.845 | 8.275 | 6.80 | ⋯ | 48 | 575 | 30400 | 35536.08 | 37733.33 | 35536.08 | 32060.67 | 32735.63 | 32004.69 | 35238.18 |\n",
       "| 25 | 35.0052 |  71.28 | 0.462 | 32907.82 | 167.6 | 7.655 | 7.965 | 7.640 | 7.940 | 7.80 | ⋯ | 27 | 502 | 31200 | 35536.08 | 34544.44 | 35536.08 | 32592.57 | 34006.13 | 33140.29 | 37654.17 |\n",
       "| 26 | 36.8108 |  71.28 | 0.462 | 31102.44 | 159.2 | 7.655 | 7.835 | 7.640 | 7.960 | 7.80 | ⋯ | 35 | 516 | 27800 | 35536.08 | 37733.33 | 35536.08 | 34331.47 | 34776.65 | 31660.26 | 35619.94 |\n",
       "| 37 | 21.9488 |  66.92 | 0.501 | 32446.76 | 134.9 | 8.305 | 8.360 | 8.190 | 8.390 | 8.16 | ⋯ | 39 | 454 | 40000 | 43983.21 | 45360.00 | 43983.21 | 42321.79 | 44576.90 | 47711.34 | 44859.65 |\n",
       "| 41 | 20.6718 |  60.90 | 0.572 | 39018.32 |  89.3 | 7.185 | 7.345 | 7.235 | 7.430 | 8.34 | ⋯ | 20 | 428 | 69800 | 65961.11 | 57472.73 | 65961.11 | 63809.35 | 66252.67 | 67118.87 | 65115.32 |\n",
       "| 43 | 22.8300 |  68.82 | 0.552 | 34268.79 |  80.1 | 7.035 | 7.270 | 7.060 | 7.190 | 7.42 | ⋯ | 52 | 419 | 50600 | 43983.21 | 44266.67 | 43983.21 | 48036.90 | 49338.78 | 49061.96 | 49523.10 |\n",
       "| 44 | 23.1872 |  68.82 | 0.552 | 34502.11 |  80.0 | 6.980 | 7.170 | 7.080 | 7.330 | 8.42 | ⋯ | 56 | 449 | 49400 | 43983.21 | 44266.67 | 43983.21 | 47103.16 | 46335.75 | 50079.96 | 50847.55 |\n",
       "| 55 | 20.2720 |  63.00 | 0.590 | 32707.84 | 121.1 | 6.300 | 6.365 | 6.200 | 6.500 | 6.78 | ⋯ | 55 | 387 | 37800 | 35536.08 | 43636.36 | 35536.08 | 41217.83 | 42222.40 | 35388.29 | 35493.58 |\n",
       "| 59 | 23.0890 |  65.26 | 0.547 | 34135.47 | 102.7 | 6.010 | 6.115 | 5.965 | 6.280 | 7.06 | ⋯ | 22 | 438 | 46600 | 43983.21 | 44266.67 | 43983.21 | 46775.76 | 44859.52 | 48668.95 | 39920.21 |\n",
       "| 61 | 22.9864 |  65.26 | 0.547 | 31891.26 | 139.7 | 6.335 | 6.420 | 6.235 | 6.560 | 7.06 | ⋯ | 30 | 439 | 37400 | 43983.21 | 37400.00 | 43983.21 | 38063.34 | 39619.74 | 36063.06 | 34330.58 |\n",
       "| 62 | 23.4342 |  65.26 | 0.547 | 33141.13 | 166.9 | 6.580 | 6.665 | 6.460 | 6.655 | 7.06 | ⋯ | 48 | 387 | 32000 | 35536.08 | 34544.44 | 35536.08 | 37648.11 | 38620.72 | 33491.91 | 33581.71 |\n",
       "| 73 | 21.8328 |  76.62 | 0.587 | 33691.07 |  81.3 | 7.270 | 7.520 | 7.195 | 7.440 | 7.16 | ⋯ | 20 | 361 | 45600 | 43983.21 | 44266.67 | 43983.21 | 44367.84 | 45746.84 | 45956.15 | 45350.83 |\n",
       "| 77 | 22.0306 |  80.66 | 0.563 | 34879.85 | 148.0 | 7.835 | 8.140 | 7.870 | 8.050 | 8.26 | ⋯ | 22 | 453 | 40000 | 43983.21 | 45563.64 | 43983.21 | 45462.48 | 45361.46 | 45849.64 | 46545.84 |\n",
       "| 79 | 21.1292 |  80.66 | 0.563 | 34618.76 | 127.2 | 7.330 | 7.500 | 7.450 | 7.690 | 8.26 | ⋯ | 53 | 377 | 42400 | 43983.21 | 44266.67 | 43983.21 | 44499.12 | 44761.13 | 39520.04 | 47011.48 |\n",
       "| 80 | 21.6774 |  80.66 | 0.563 | 32630.07 | 110.1 | 7.735 | 7.885 | 7.590 | 7.785 | 8.26 | ⋯ | 37 | 472 | 40600 | 43983.21 | 41369.23 | 43983.21 | 41798.77 | 42935.16 | 44978.92 | 43198.54 |\n",
       "| 91 | 20.9368 |  61.82 | 0.511 | 35646.43 | 139.6 | 8.430 | 8.535 | 8.425 | 8.425 | 8.44 | ⋯ | 58 | 424 | 45200 | 43983.21 | 51800.00 | 43983.21 | 50257.29 | 53158.74 | 53847.39 | 56539.60 |\n",
       "| 95 | 20.8588 |  85.08 | 0.536 | 34713.19 | 150.8 | 8.095 | 8.330 | 8.040 | 8.305 | 8.36 | ⋯ | 54 | 465 | 41200 | 43983.21 | 51800.00 | 43983.21 | 45384.66 | 45737.29 | 38214.14 | 45584.59 |\n",
       "| 97 | 22.3008 |  60.78 | 0.555 | 34235.46 | 143.1 | 8.210 | 8.325 | 8.230 | 8.245 | 8.40 | ⋯ | 21 | 463 | 42800 | 43983.21 | 51800.00 | 43983.21 | 49982.99 | 51413.91 | 51551.51 | 49584.88 |\n",
       "| 98 | 22.4166 |  60.78 | 0.555 | 44823.29 | 149.5 | 8.150 | 8.340 | 8.215 | 8.305 | 7.40 | ⋯ | 53 | 413 | 77400 | 92019.05 | 95871.43 | 92019.05 | 84856.00 | 80922.45 | 84535.52 | 70915.34 |\n",
       "| 109 | 22.5604 |  72.12 | 0.480 | 35963.07 | 170.6 | 8.640 | 8.910 | 8.730 | 8.850 | 7.82 | ⋯ | 48 | 502 | 39600 | 43983.21 | 40984.62 | 43983.21 | 46086.75 | 43956.09 | 43883.97 | 48397.76 |\n",
       "| 113 | 22.4658 |  75.02 | 0.453 | 32846.71 | 166.4 | 8.725 | 8.885 | 8.720 | 8.965 | 7.44 | ⋯ | 35 | 577 | 37600 | 35536.08 | 37733.33 | 35536.08 | 38357.43 | 37898.46 | 31428.67 | 36309.04 |\n",
       "| 115 | 22.8462 |  75.02 | 0.453 | 34740.97 | 157.7 | 8.730 | 8.930 | 8.855 | 8.975 | 8.44 | ⋯ | 39 | 570 | 37000 | 43983.21 | 44940.00 | 43983.21 | 41150.74 | 40630.23 | 35739.50 | 45935.31 |\n",
       "| 116 | 23.4268 |  75.02 | 0.453 | 32930.04 | 161.7 | 8.720 | 8.795 | 8.640 | 8.920 | 7.44 | ⋯ | 24 | 539 | 36600 | 35536.08 | 33415.38 | 35536.08 | 38966.53 | 39129.39 | 39250.88 | 37437.00 |\n",
       "| 127 | 27.7470 | 106.30 | 0.419 | 31180.22 | 169.1 | 9.035 | 9.240 | 9.100 | 9.115 | 8.18 | ⋯ | 42 | 635 | 31400 | 35536.08 | 27020.00 | 35536.08 | 30291.09 | 30620.80 | 23468.46 | 26313.48 |\n",
       "| 131 | 26.8012 |  98.78 | 0.376 | 35874.19 | 172.4 | 8.815 | 9.035 | 8.820 | 9.095 | 6.76 | ⋯ | 25 | 663 | 38400 | 43983.21 | 40984.62 | 43983.21 | 43913.35 | 42308.02 | 46304.46 | 41003.41 |\n",
       "| ⋮ | ⋮ | ⋮ | ⋮ | ⋮ | ⋮ | ⋮ | ⋮ | ⋮ | ⋮ | ⋮ | ⋱ | ⋮ | ⋮ | ⋮ | ⋮ | ⋮ | ⋮ | ⋮ | ⋮ | ⋮ | ⋮ |\n",
       "| 368 |  290.4440 |  91.20 | 0.369 | 21458.97 | 173.5 | 9.235 | 9.305 | 9.230 | 9.215 | 7.96 | ⋯ | 24 | 559 | 46200 | 77000.00 | 77000.00 | 77000.00 | 65576.91 | 52510.64 | 72389.66 | 17360.632 |\n",
       "| 379 |  492.9640 |  91.20 | 0.329 | 35440.90 | 169.7 | 9.240 | 9.390 | 9.235 | 9.365 | 6.96 | ⋯ | 54 | 632 | 26200 | 24955.17 | 21811.11 | 24955.17 | 22281.22 | 21758.95 | 14370.96 | 30937.264 |\n",
       "| 383 |  203.7404 |  91.20 | 0.300 | 30752.48 | 173.5 | 9.050 | 9.225 | 9.140 | 9.430 | 7.96 | ⋯ | 46 | 607 | 22600 | 24955.17 | 21811.11 | 24955.17 | 21149.71 | 21674.35 | 30091.69 | 28392.888 |\n",
       "| 385 |  421.6980 |  91.20 | 0.300 | 24264.24 | 164.7 | 9.250 | 9.330 | 9.260 | 9.280 | 7.96 | ⋯ | 25 | 626 | 17600 | 24955.17 | 16646.15 | 24955.17 | 18111.92 | 20730.87 | 23466.82 |  6617.788 |\n",
       "| 386 |  356.2360 |  91.20 | 0.300 | 29313.74 | 171.6 | 9.270 | 9.385 | 9.190 | 9.300 | 6.96 | ⋯ | 36 | 600 | 14400 | 24955.17 | 16646.15 | 24955.17 | 17603.51 | 21526.25 | 25152.81 | 13385.250 |\n",
       "| 397 |  137.4410 |  91.20 | 0.307 | 35579.78 | 169.5 | 9.115 | 9.180 | 9.100 | 9.255 | 6.96 | ⋯ | 24 | 685 | 25000 | 35536.08 | 27020.00 | 35536.08 | 28680.67 | 27744.29 | 18582.10 | 35154.906 |\n",
       "| 401 |  520.9220 |  91.20 | 0.307 | 33257.79 | 173.5 | 9.135 | 9.310 | 9.040 | 9.335 | 7.96 | ⋯ | 30 | 618 | 11200 | 24955.17 | 16646.15 | 24955.17 | 16891.51 | 17384.79 | 13815.56 | 25360.823 |\n",
       "| 403 |  211.9142 |  91.20 | 0.307 | 35574.22 | 173.5 | 9.170 | 9.320 | 9.115 | 9.120 | 7.96 | ⋯ | 42 | 689 | 24200 | 24955.17 | 21811.11 | 24955.17 | 22173.48 | 21699.46 | 15660.17 | 33829.026 |\n",
       "| 404 |  516.0340 |  91.20 | 0.307 | 29713.69 | 169.5 | 9.125 | 9.310 | 9.060 | 9.100 | 6.96 | ⋯ | 40 | 677 | 16600 | 24955.17 | 21811.11 | 24955.17 | 21430.49 | 21299.90 | 17135.65 | 20534.160 |\n",
       "| 415 |  934.9220 |  91.20 | 0.307 | 25103.04 | 173.5 | 9.130 | 9.250 | 9.050 | 9.255 | 7.96 | ⋯ | 40 | 693 | 14000 | 24955.17 | 16646.15 | 24955.17 | 17275.25 | 19216.93 | 16935.50 | -1111.475 |\n",
       "| 419 | 1490.6820 |  91.20 | 0.321 | 33091.14 | 173.5 | 9.020 | 9.155 | 9.075 | 9.150 | 7.96 | ⋯ | 52 | 680 | 17600 | 24955.17 | 21811.11 | 24955.17 | 18909.37 | 19297.89 | 18466.80 | 15238.010 |\n",
       "| 421 |  241.7480 |  91.20 | 0.282 | 35613.11 | 173.5 | 9.035 | 9.095 | 9.060 | 9.095 | 6.96 | ⋯ | 48 | 649 | 33400 | 24955.17 | 21811.11 | 24955.17 | 25932.77 | 25787.00 | 23977.41 | 35820.293 |\n",
       "| 422 |  160.4518 |  91.20 | 0.282 | 33363.33 | 168.8 | 9.010 | 9.215 | 9.060 | 8.965 | 7.96 | ⋯ | 29 | 756 | 28400 | 24955.17 | 21811.11 | 24955.17 | 30352.66 | 29860.97 | 30200.62 | 34765.013 |\n",
       "| 433 |  148.8810 |  91.20 | 0.416 | 35690.88 | 148.3 | 8.800 | 9.040 | 8.830 | 8.930 | 7.96 | ⋯ | 42 | 538 | 32200 | 43983.21 | 44940.00 | 43983.21 | 43563.04 | 42276.30 | 42627.60 | 45801.510 |\n",
       "| 437 |  308.4160 |  91.20 | 0.260 | 35890.86 | 166.8 | 8.840 | 9.090 | 8.945 | 9.125 | 6.96 | ⋯ | 57 | 702 | 19200 | 24955.17 | 21811.11 | 24955.17 | 23775.31 | 25837.88 | 24935.20 | 34076.686 |\n",
       "| 439 |  293.5620 |  91.20 | 0.260 | 32968.93 | 161.4 | 9.075 | 9.195 | 9.065 | 9.025 | 6.96 | ⋯ | 57 | 712 | 16800 | 24955.17 | 16646.15 | 24955.17 | 19526.99 | 20644.05 | 23515.91 | 20950.122 |\n",
       "| 440 |  207.8126 |  91.20 | 0.260 | 31257.99 | 167.4 | 9.065 | 9.140 | 8.995 | 9.165 | 6.96 | ⋯ | 50 | 731 | 25600 | 24955.17 | 16646.15 | 24955.17 | 23987.95 | 23684.67 | 26613.33 | 23175.507 |\n",
       "| 451 |  154.3544 |  91.20 | 0.287 | 37490.69 | 166.1 | 8.800 | 8.945 | 8.815 | 8.800 | 7.96 | ⋯ | 59 | 614 | 26800 | 35536.08 | 37733.33 | 35536.08 | 31825.25 | 33747.23 | 31006.63 | 42687.281 |\n",
       "| 455 |  210.2726 |  91.20 | 0.287 | 37374.04 | 167.6 | 8.750 | 8.900 | 8.625 | 8.730 | 6.96 | ⋯ | 34 | 661 | 28800 | 24955.17 | 29020.00 | 24955.17 | 30758.09 | 31222.06 | 31461.38 | 35322.665 |\n",
       "| 457 |  113.3766 |  91.20 | 0.287 | 33196.68 | 161.4 | 8.675 | 8.850 | 8.610 | 8.705 | 6.96 | ⋯ | 31 | 638 | 25400 | 35536.08 | 33415.38 | 35536.08 | 31627.75 | 33544.37 | 35780.63 | 27736.309 |\n",
       "| 458 |  184.0116 |  91.20 | 0.287 | 32974.48 | 153.8 | 8.570 | 8.755 | 8.595 | 8.520 | 7.96 | ⋯ | 46 | 749 | 27000 | 24955.17 | 29020.00 | 24955.17 | 33055.65 | 35116.41 | 30041.15 | 31644.452 |\n",
       "| 469 |  331.5140 |  91.20 | 0.420 | 32918.93 | 144.5 | 8.520 | 8.550 | 8.440 | 8.670 | 6.96 | ⋯ | 28 | 494 | 38200 | 24955.17 | 32247.06 | 24955.17 | 33484.31 | 35919.13 | 32442.89 | 27676.683 |\n",
       "| 473 |   91.3736 |  91.20 | 0.420 | 35757.54 | 148.5 | 8.480 | 8.685 | 8.495 | 8.550 | 7.96 | ⋯ | 39 | 635 | 46400 | 35536.08 | 37733.33 | 35536.08 | 37897.25 | 39058.35 | 35721.24 | 42519.592 |\n",
       "| 475 |  181.1158 |  91.20 | 0.416 | 30146.99 | 168.9 | 8.695 | 8.835 | 8.720 | 8.895 | 7.96 | ⋯ | 47 | 498 | 27600 | 24955.17 | 32247.06 | 24955.17 | 32685.49 | 34124.01 | 34977.05 | 30109.947 |\n",
       "| 476 |  147.8624 |  91.20 | 0.416 | 34229.91 | 170.9 | 8.750 | 8.915 | 8.750 | 9.175 | 7.96 | ⋯ | 27 | 631 | 26600 | 35536.08 | 31250.00 | 35536.08 | 30923.57 | 32008.75 | 26977.86 | 34903.903 |\n",
       "| 487 |  133.8350 |  91.20 | 0.417 | 33963.27 | 153.3 | 8.225 | 8.330 | 8.120 | 8.235 | 6.96 | ⋯ | 57 | 596 | 38200 | 35536.08 | 37733.33 | 35536.08 | 38407.27 | 39334.89 | 38507.00 | 35998.661 |\n",
       "| 491 |   24.1492 | 110.48 | 0.391 | 28291.62 | 171.5 | 9.015 | 9.200 | 9.025 | 9.115 | 7.98 | ⋯ | 49 | 628 | 16200 | 35536.08 | 27020.00 | 35536.08 | 25827.09 | 27211.83 | 22706.26 | 19914.695 |\n",
       "| 493 |   22.2264 | 110.48 | 0.391 | 33235.57 | 157.0 | 8.875 | 9.090 | 8.940 | 8.880 | 6.98 | ⋯ | 57 | 623 | 40200 | 35536.08 | 37733.33 | 35536.08 | 37906.03 | 36792.94 | 39996.11 | 35761.215 |\n",
       "| 494 |   23.4662 |  74.38 | 0.415 | 31702.38 | 127.5 | 8.650 | 8.865 | 8.790 | 8.930 | 8.16 | ⋯ | 31 | 581 | 43600 | 35536.08 | 43636.36 | 35536.08 | 41082.85 | 41554.03 | 38801.52 | 42355.467 |\n",
       "| 505 |   22.1918 |  78.86 | 0.427 | 37740.67 | 162.8 | 8.730 | 8.845 | 8.800 | 8.845 | 6.80 | ⋯ | 47 | 607 | 44000 | 54016.67 | 53563.64 | 54016.67 | 51044.61 | 50574.31 | 53470.05 | 50033.897 |\n",
       "\n"
      ],
      "text/plain": [
       "    Marketing.expense Production.expense Multiplex.coverage Budget  \n",
       "1   20.1264            59.62             0.462              36524.12\n",
       "5   21.3810            59.36             0.542              39701.58\n",
       "7   21.7658            70.74             0.476              33396.66\n",
       "8   22.8910            70.74             0.476              34285.46\n",
       "19  36.0542            71.28             0.462              30308.08\n",
       "23  44.6494            71.28             0.462              34118.81\n",
       "25  35.0052            71.28             0.462              32907.82\n",
       "26  36.8108            71.28             0.462              31102.44\n",
       "37  21.9488            66.92             0.501              32446.76\n",
       "41  20.6718            60.90             0.572              39018.32\n",
       "43  22.8300            68.82             0.552              34268.79\n",
       "44  23.1872            68.82             0.552              34502.11\n",
       "55  20.2720            63.00             0.590              32707.84\n",
       "59  23.0890            65.26             0.547              34135.47\n",
       "61  22.9864            65.26             0.547              31891.26\n",
       "62  23.4342            65.26             0.547              33141.13\n",
       "73  21.8328            76.62             0.587              33691.07\n",
       "77  22.0306            80.66             0.563              34879.85\n",
       "79  21.1292            80.66             0.563              34618.76\n",
       "80  21.6774            80.66             0.563              32630.07\n",
       "91  20.9368            61.82             0.511              35646.43\n",
       "95  20.8588            85.08             0.536              34713.19\n",
       "97  22.3008            60.78             0.555              34235.46\n",
       "98  22.4166            60.78             0.555              44823.29\n",
       "109 22.5604            72.12             0.480              35963.07\n",
       "113 22.4658            75.02             0.453              32846.71\n",
       "115 22.8462            75.02             0.453              34740.97\n",
       "116 23.4268            75.02             0.453              32930.04\n",
       "127 27.7470           106.30             0.419              31180.22\n",
       "131 26.8012            98.78             0.376              35874.19\n",
       "⋮   ⋮                 ⋮                  ⋮                  ⋮       \n",
       "368  290.4440          91.20             0.369              21458.97\n",
       "379  492.9640          91.20             0.329              35440.90\n",
       "383  203.7404          91.20             0.300              30752.48\n",
       "385  421.6980          91.20             0.300              24264.24\n",
       "386  356.2360          91.20             0.300              29313.74\n",
       "397  137.4410          91.20             0.307              35579.78\n",
       "401  520.9220          91.20             0.307              33257.79\n",
       "403  211.9142          91.20             0.307              35574.22\n",
       "404  516.0340          91.20             0.307              29713.69\n",
       "415  934.9220          91.20             0.307              25103.04\n",
       "419 1490.6820          91.20             0.321              33091.14\n",
       "421  241.7480          91.20             0.282              35613.11\n",
       "422  160.4518          91.20             0.282              33363.33\n",
       "433  148.8810          91.20             0.416              35690.88\n",
       "437  308.4160          91.20             0.260              35890.86\n",
       "439  293.5620          91.20             0.260              32968.93\n",
       "440  207.8126          91.20             0.260              31257.99\n",
       "451  154.3544          91.20             0.287              37490.69\n",
       "455  210.2726          91.20             0.287              37374.04\n",
       "457  113.3766          91.20             0.287              33196.68\n",
       "458  184.0116          91.20             0.287              32974.48\n",
       "469  331.5140          91.20             0.420              32918.93\n",
       "473   91.3736          91.20             0.420              35757.54\n",
       "475  181.1158          91.20             0.416              30146.99\n",
       "476  147.8624          91.20             0.416              34229.91\n",
       "487  133.8350          91.20             0.417              33963.27\n",
       "491   24.1492         110.48             0.391              28291.62\n",
       "493   22.2264         110.48             0.391              33235.57\n",
       "494   23.4662          74.38             0.415              31702.38\n",
       "505   22.1918          78.86             0.427              37740.67\n",
       "    Movie_length Lead_.Actor_Rating Lead_Actress_rating Director_rating\n",
       "1   138.7        7.825              8.095               7.910          \n",
       "5   127.7        6.920              7.070               6.815          \n",
       "7   140.1        7.065              7.265               7.150          \n",
       "8   169.6        6.980              7.075               6.875          \n",
       "19  110.1        8.100              8.240               8.070          \n",
       "23  165.2        7.910              8.010               7.845          \n",
       "25  167.6        7.655              7.965               7.640          \n",
       "26  159.2        7.655              7.835               7.640          \n",
       "37  134.9        8.305              8.360               8.190          \n",
       "41   89.3        7.185              7.345               7.235          \n",
       "43   80.1        7.035              7.270               7.060          \n",
       "44   80.0        6.980              7.170               7.080          \n",
       "55  121.1        6.300              6.365               6.200          \n",
       "59  102.7        6.010              6.115               5.965          \n",
       "61  139.7        6.335              6.420               6.235          \n",
       "62  166.9        6.580              6.665               6.460          \n",
       "73   81.3        7.270              7.520               7.195          \n",
       "77  148.0        7.835              8.140               7.870          \n",
       "79  127.2        7.330              7.500               7.450          \n",
       "80  110.1        7.735              7.885               7.590          \n",
       "91  139.6        8.430              8.535               8.425          \n",
       "95  150.8        8.095              8.330               8.040          \n",
       "97  143.1        8.210              8.325               8.230          \n",
       "98  149.5        8.150              8.340               8.215          \n",
       "109 170.6        8.640              8.910               8.730          \n",
       "113 166.4        8.725              8.885               8.720          \n",
       "115 157.7        8.730              8.930               8.855          \n",
       "116 161.7        8.720              8.795               8.640          \n",
       "127 169.1        9.035              9.240               9.100          \n",
       "131 172.4        8.815              9.035               8.820          \n",
       "⋮   ⋮            ⋮                  ⋮                   ⋮              \n",
       "368 173.5        9.235              9.305               9.230          \n",
       "379 169.7        9.240              9.390               9.235          \n",
       "383 173.5        9.050              9.225               9.140          \n",
       "385 164.7        9.250              9.330               9.260          \n",
       "386 171.6        9.270              9.385               9.190          \n",
       "397 169.5        9.115              9.180               9.100          \n",
       "401 173.5        9.135              9.310               9.040          \n",
       "403 173.5        9.170              9.320               9.115          \n",
       "404 169.5        9.125              9.310               9.060          \n",
       "415 173.5        9.130              9.250               9.050          \n",
       "419 173.5        9.020              9.155               9.075          \n",
       "421 173.5        9.035              9.095               9.060          \n",
       "422 168.8        9.010              9.215               9.060          \n",
       "433 148.3        8.800              9.040               8.830          \n",
       "437 166.8        8.840              9.090               8.945          \n",
       "439 161.4        9.075              9.195               9.065          \n",
       "440 167.4        9.065              9.140               8.995          \n",
       "451 166.1        8.800              8.945               8.815          \n",
       "455 167.6        8.750              8.900               8.625          \n",
       "457 161.4        8.675              8.850               8.610          \n",
       "458 153.8        8.570              8.755               8.595          \n",
       "469 144.5        8.520              8.550               8.440          \n",
       "473 148.5        8.480              8.685               8.495          \n",
       "475 168.9        8.695              8.835               8.720          \n",
       "476 170.9        8.750              8.915               8.750          \n",
       "487 153.3        8.225              8.330               8.120          \n",
       "491 171.5        9.015              9.200               9.025          \n",
       "493 157.0        8.875              9.090               8.940          \n",
       "494 127.5        8.650              8.865               8.790          \n",
       "505 162.8        8.730              8.845               8.800          \n",
       "    Producer_rating Critic_rating ⋯ Avg_age_actors Num_multiplex Collection\n",
       "1   7.995           7.94          ⋯ 23             494           48000     \n",
       "5   7.070           8.26          ⋯ 55             395           72400     \n",
       "7   7.400           8.96          ⋯ 41             522           45800     \n",
       "8   7.170           7.96          ⋯ 56             571           44200     \n",
       "19  8.000           6.80          ⋯ 41             543           40400     \n",
       "23  8.275           6.80          ⋯ 48             575           30400     \n",
       "25  7.940           7.80          ⋯ 27             502           31200     \n",
       "26  7.960           7.80          ⋯ 35             516           27800     \n",
       "37  8.390           8.16          ⋯ 39             454           40000     \n",
       "41  7.430           8.34          ⋯ 20             428           69800     \n",
       "43  7.190           7.42          ⋯ 52             419           50600     \n",
       "44  7.330           8.42          ⋯ 56             449           49400     \n",
       "55  6.500           6.78          ⋯ 55             387           37800     \n",
       "59  6.280           7.06          ⋯ 22             438           46600     \n",
       "61  6.560           7.06          ⋯ 30             439           37400     \n",
       "62  6.655           7.06          ⋯ 48             387           32000     \n",
       "73  7.440           7.16          ⋯ 20             361           45600     \n",
       "77  8.050           8.26          ⋯ 22             453           40000     \n",
       "79  7.690           8.26          ⋯ 53             377           42400     \n",
       "80  7.785           8.26          ⋯ 37             472           40600     \n",
       "91  8.425           8.44          ⋯ 58             424           45200     \n",
       "95  8.305           8.36          ⋯ 54             465           41200     \n",
       "97  8.245           8.40          ⋯ 21             463           42800     \n",
       "98  8.305           7.40          ⋯ 53             413           77400     \n",
       "109 8.850           7.82          ⋯ 48             502           39600     \n",
       "113 8.965           7.44          ⋯ 35             577           37600     \n",
       "115 8.975           8.44          ⋯ 39             570           37000     \n",
       "116 8.920           7.44          ⋯ 24             539           36600     \n",
       "127 9.115           8.18          ⋯ 42             635           31400     \n",
       "131 9.095           6.76          ⋯ 25             663           38400     \n",
       "⋮   ⋮               ⋮             ⋱ ⋮              ⋮             ⋮         \n",
       "368 9.215           7.96          ⋯ 24             559           46200     \n",
       "379 9.365           6.96          ⋯ 54             632           26200     \n",
       "383 9.430           7.96          ⋯ 46             607           22600     \n",
       "385 9.280           7.96          ⋯ 25             626           17600     \n",
       "386 9.300           6.96          ⋯ 36             600           14400     \n",
       "397 9.255           6.96          ⋯ 24             685           25000     \n",
       "401 9.335           7.96          ⋯ 30             618           11200     \n",
       "403 9.120           7.96          ⋯ 42             689           24200     \n",
       "404 9.100           6.96          ⋯ 40             677           16600     \n",
       "415 9.255           7.96          ⋯ 40             693           14000     \n",
       "419 9.150           7.96          ⋯ 52             680           17600     \n",
       "421 9.095           6.96          ⋯ 48             649           33400     \n",
       "422 8.965           7.96          ⋯ 29             756           28400     \n",
       "433 8.930           7.96          ⋯ 42             538           32200     \n",
       "437 9.125           6.96          ⋯ 57             702           19200     \n",
       "439 9.025           6.96          ⋯ 57             712           16800     \n",
       "440 9.165           6.96          ⋯ 50             731           25600     \n",
       "451 8.800           7.96          ⋯ 59             614           26800     \n",
       "455 8.730           6.96          ⋯ 34             661           28800     \n",
       "457 8.705           6.96          ⋯ 31             638           25400     \n",
       "458 8.520           7.96          ⋯ 46             749           27000     \n",
       "469 8.670           6.96          ⋯ 28             494           38200     \n",
       "473 8.550           7.96          ⋯ 39             635           46400     \n",
       "475 8.895           7.96          ⋯ 47             498           27600     \n",
       "476 9.175           7.96          ⋯ 27             631           26600     \n",
       "487 8.235           6.96          ⋯ 57             596           38200     \n",
       "491 9.115           7.98          ⋯ 49             628           16200     \n",
       "493 8.880           6.98          ⋯ 57             623           40200     \n",
       "494 8.930           8.16          ⋯ 31             581           43600     \n",
       "505 8.845           6.80          ⋯ 47             607           44000     \n",
       "    regtree  fulltree pruned   bagging  randomforest gradient svm      \n",
       "1   54016.67 59953.85 54016.67 53936.22 55897.48     50613.78 54581.61 \n",
       "5   65961.11 72757.14 65961.11 70762.30 68534.57     72319.41 59983.30 \n",
       "7   43983.21 41369.23 43983.21 39609.41 40542.90     41556.93 44810.35 \n",
       "8   35536.08 34544.44 35536.08 36053.79 35743.15     36756.71 35588.30 \n",
       "19  43983.21 37400.00 43983.21 39103.39 39836.95     40141.98 36061.35 \n",
       "23  35536.08 37733.33 35536.08 32060.67 32735.63     32004.69 35238.18 \n",
       "25  35536.08 34544.44 35536.08 32592.57 34006.13     33140.29 37654.17 \n",
       "26  35536.08 37733.33 35536.08 34331.47 34776.65     31660.26 35619.94 \n",
       "37  43983.21 45360.00 43983.21 42321.79 44576.90     47711.34 44859.65 \n",
       "41  65961.11 57472.73 65961.11 63809.35 66252.67     67118.87 65115.32 \n",
       "43  43983.21 44266.67 43983.21 48036.90 49338.78     49061.96 49523.10 \n",
       "44  43983.21 44266.67 43983.21 47103.16 46335.75     50079.96 50847.55 \n",
       "55  35536.08 43636.36 35536.08 41217.83 42222.40     35388.29 35493.58 \n",
       "59  43983.21 44266.67 43983.21 46775.76 44859.52     48668.95 39920.21 \n",
       "61  43983.21 37400.00 43983.21 38063.34 39619.74     36063.06 34330.58 \n",
       "62  35536.08 34544.44 35536.08 37648.11 38620.72     33491.91 33581.71 \n",
       "73  43983.21 44266.67 43983.21 44367.84 45746.84     45956.15 45350.83 \n",
       "77  43983.21 45563.64 43983.21 45462.48 45361.46     45849.64 46545.84 \n",
       "79  43983.21 44266.67 43983.21 44499.12 44761.13     39520.04 47011.48 \n",
       "80  43983.21 41369.23 43983.21 41798.77 42935.16     44978.92 43198.54 \n",
       "91  43983.21 51800.00 43983.21 50257.29 53158.74     53847.39 56539.60 \n",
       "95  43983.21 51800.00 43983.21 45384.66 45737.29     38214.14 45584.59 \n",
       "97  43983.21 51800.00 43983.21 49982.99 51413.91     51551.51 49584.88 \n",
       "98  92019.05 95871.43 92019.05 84856.00 80922.45     84535.52 70915.34 \n",
       "109 43983.21 40984.62 43983.21 46086.75 43956.09     43883.97 48397.76 \n",
       "113 35536.08 37733.33 35536.08 38357.43 37898.46     31428.67 36309.04 \n",
       "115 43983.21 44940.00 43983.21 41150.74 40630.23     35739.50 45935.31 \n",
       "116 35536.08 33415.38 35536.08 38966.53 39129.39     39250.88 37437.00 \n",
       "127 35536.08 27020.00 35536.08 30291.09 30620.80     23468.46 26313.48 \n",
       "131 43983.21 40984.62 43983.21 43913.35 42308.02     46304.46 41003.41 \n",
       "⋮   ⋮        ⋮        ⋮        ⋮        ⋮            ⋮        ⋮        \n",
       "368 77000.00 77000.00 77000.00 65576.91 52510.64     72389.66 17360.632\n",
       "379 24955.17 21811.11 24955.17 22281.22 21758.95     14370.96 30937.264\n",
       "383 24955.17 21811.11 24955.17 21149.71 21674.35     30091.69 28392.888\n",
       "385 24955.17 16646.15 24955.17 18111.92 20730.87     23466.82  6617.788\n",
       "386 24955.17 16646.15 24955.17 17603.51 21526.25     25152.81 13385.250\n",
       "397 35536.08 27020.00 35536.08 28680.67 27744.29     18582.10 35154.906\n",
       "401 24955.17 16646.15 24955.17 16891.51 17384.79     13815.56 25360.823\n",
       "403 24955.17 21811.11 24955.17 22173.48 21699.46     15660.17 33829.026\n",
       "404 24955.17 21811.11 24955.17 21430.49 21299.90     17135.65 20534.160\n",
       "415 24955.17 16646.15 24955.17 17275.25 19216.93     16935.50 -1111.475\n",
       "419 24955.17 21811.11 24955.17 18909.37 19297.89     18466.80 15238.010\n",
       "421 24955.17 21811.11 24955.17 25932.77 25787.00     23977.41 35820.293\n",
       "422 24955.17 21811.11 24955.17 30352.66 29860.97     30200.62 34765.013\n",
       "433 43983.21 44940.00 43983.21 43563.04 42276.30     42627.60 45801.510\n",
       "437 24955.17 21811.11 24955.17 23775.31 25837.88     24935.20 34076.686\n",
       "439 24955.17 16646.15 24955.17 19526.99 20644.05     23515.91 20950.122\n",
       "440 24955.17 16646.15 24955.17 23987.95 23684.67     26613.33 23175.507\n",
       "451 35536.08 37733.33 35536.08 31825.25 33747.23     31006.63 42687.281\n",
       "455 24955.17 29020.00 24955.17 30758.09 31222.06     31461.38 35322.665\n",
       "457 35536.08 33415.38 35536.08 31627.75 33544.37     35780.63 27736.309\n",
       "458 24955.17 29020.00 24955.17 33055.65 35116.41     30041.15 31644.452\n",
       "469 24955.17 32247.06 24955.17 33484.31 35919.13     32442.89 27676.683\n",
       "473 35536.08 37733.33 35536.08 37897.25 39058.35     35721.24 42519.592\n",
       "475 24955.17 32247.06 24955.17 32685.49 34124.01     34977.05 30109.947\n",
       "476 35536.08 31250.00 35536.08 30923.57 32008.75     26977.86 34903.903\n",
       "487 35536.08 37733.33 35536.08 38407.27 39334.89     38507.00 35998.661\n",
       "491 35536.08 27020.00 35536.08 25827.09 27211.83     22706.26 19914.695\n",
       "493 35536.08 37733.33 35536.08 37906.03 36792.94     39996.11 35761.215\n",
       "494 35536.08 43636.36 35536.08 41082.85 41554.03     38801.52 42355.467\n",
       "505 54016.67 53563.64 54016.67 51044.61 50574.31     53470.05 50033.897"
      ]
     },
     "metadata": {},
     "output_type": "display_data"
    }
   ],
   "source": [
    "View(test)"
   ]
  }
 ],
 "metadata": {
  "kernelspec": {
   "display_name": "R",
   "language": "R",
   "name": "ir"
  },
  "language_info": {
   "codemirror_mode": "r",
   "file_extension": ".r",
   "mimetype": "text/x-r-source",
   "name": "R",
   "pygments_lexer": "r",
   "version": "4.3.2"
  }
 },
 "nbformat": 4,
 "nbformat_minor": 5
}
